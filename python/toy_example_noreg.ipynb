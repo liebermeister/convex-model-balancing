{
 "cells": [
  {
   "cell_type": "markdown",
   "metadata": {},
   "source": [
    "## Solve Model balancing problem with kinetic parameters as variables"
   ]
  },
  {
   "cell_type": "code",
   "execution_count": 1,
   "metadata": {},
   "outputs": [],
   "source": [
    "import numpy as np\n",
    "from equilibrator_api import Q_, R, default_T\n",
    "from model_balancing import _ln_kcatr, _ln_conc_enz, _driving_forces, solve\n",
    "import cvxpy as cp"
   ]
  },
  {
   "cell_type": "code",
   "execution_count": 2,
   "metadata": {},
   "outputs": [],
   "source": [
    "args = {}\n",
    "\n",
    "# Network topology\n",
    "\n",
    "args[\"S\"] = np.matrix(\n",
    "    [\n",
    "        [-1, 0, 0],\n",
    "        [1, -1, -1],\n",
    "        [0, 1, 1]\n",
    "    ], dtype=float\n",
    ")\n",
    "args[\"A_act\"] = np.matrix(\n",
    "    [\n",
    "        [0, 0, 0],\n",
    "        [0, 0, 0],\n",
    "        [0, 0, 0]\n",
    "    ], dtype=float\n",
    ")\n",
    "args[\"A_inh\"] = np.matrix(\n",
    "    [\n",
    "        [0, 0, 0],\n",
    "        [0, 0, 0],\n",
    "        [0, 0, 0]\n",
    "    ], dtype=float\n",
    ")"
   ]
  },
  {
   "cell_type": "code",
   "execution_count": 3,
   "metadata": {},
   "outputs": [],
   "source": [
    "# Priors for Kinetic and Thermodynamic parameters\n",
    "\n",
    "args[\"Keq_gmean\"] = Q_([5, 3, 5], \"\")  # geometric mean (assuming a standard concentration of 1M)\n",
    "args[\"Keq_ln_cov\"] = np.array(\n",
    "    [\n",
    "        [1, 0, 0],\n",
    "        [0, 1, 0],\n",
    "        [0, 0, 1],\n",
    "    ]\n",
    ")  # log-scale covariance\n",
    "\n",
    "args[\"kcatf_gmean\"] = Q_([5.0, 5.0, 5.0], \"1/s\")  # geometric mean\n",
    "args[\"kcatf_ln_cov\"] = np.array(\n",
    "    [\n",
    "        [1, 0, 0],\n",
    "        [0, 1, 0],\n",
    "        [0, 0, 1],\n",
    "    ]\n",
    ") # log-scale covariance\n",
    "\n",
    "args[\"kcatr_ln_cov\"] = np.array(\n",
    "    [\n",
    "        [1, 0, 0],\n",
    "        [0, 1, 0],\n",
    "        [0, 0, 1],\n",
    "    ]\n",
    ") # log-scale covariance\n",
    "\n",
    "# the K parameters are only for existing connections in the S, A_act and A_inh matrices.\n",
    "# the order of values is \"metabolite-first\".\n",
    "args[\"Km_gmean\"] = Q_([1e-2, 1e-4, 1e-4, 1e-3, 1e-1, 1e-1], \"M\")\n",
    "args[\"Km_ln_cov\"] = np.array(\n",
    "    [\n",
    "        [1, 0, 0, 0, 0, 0],\n",
    "        [0, 1, 0, 0, 0, 0],\n",
    "        [0, 0, 1, 0, 0, 0],\n",
    "        [0, 0, 0, 1, 0, 0],\n",
    "        [0, 0, 0, 0, 1, 0],\n",
    "        [0, 0, 0, 0, 0, 1],\n",
    "    ]\n",
    ") # log-scale covariance"
   ]
  },
  {
   "cell_type": "code",
   "execution_count": 4,
   "metadata": {},
   "outputs": [],
   "source": [
    "args[\"Ka_gmean\"] = Q_([], \"M\")\n",
    "args[\"Ka_ln_cov\"] = np.array([])\n",
    "args[\"Ki_gmean\"] = Q_([], \"M\")\n",
    "args[\"Ki_ln_cov\"] = np.array([])"
   ]
  },
  {
   "cell_type": "code",
   "execution_count": 5,
   "metadata": {},
   "outputs": [],
   "source": [
    "# condition dependent data (columns represent conditions)\n",
    "\n",
    "args[\"fluxes\"] = Q_(\n",
    "    [\n",
    "        [2.0, 1.5, 2.5, 2.5],\n",
    "        [1.0, 1.0, 2.0, 0.5],\n",
    "        [1.0, 0.5, 0.5, 2.0],\n",
    "    ], \"mM/s\"\n",
    ")\n",
    "\n",
    "args[\"conc_enz_gstd\"] = np.array(\n",
    "    [\n",
    "        [1.1, 1.1, 1.1, 1.1],\n",
    "        [1.1, 1.1, 1.1, 1.1],\n",
    "        [1.1, 1.1, 1.1, 1.1],\n",
    "    ]\n",
    ")  # geometric standard deviation\n",
    "\n",
    "args[\"conc_met_gmean\"] = Q_(\n",
    "    [\n",
    "        [2e-3, 1e-2, 2e-3, 1e-3],\n",
    "        [2e-4, 1e-4, 3e-4, 1e-4],\n",
    "        [1e-5, 1e-5, 1e-5, 1e-5],\n",
    "    ], \"M\"\n",
    ")  # geometric mean\n",
    "\n",
    "args[\"conc_met_gstd\"] = np.array(\n",
    "    [\n",
    "        [1.1, 1.1, 1.1, 1.1],\n",
    "        [1.1, 1.1, 1.1, 1.1],\n",
    "        [1.1, 1.1, 1.1, 1.1],\n",
    "    ]\n",
    ")  # geometric standard deviation"
   ]
  },
  {
   "cell_type": "code",
   "execution_count": 6,
   "metadata": {},
   "outputs": [],
   "source": [
    "fluxes, S, A_act, A_inh = args[\"fluxes\"], args[\"S\"], args[\"A_act\"], args[\"A_inh\"]\n",
    "ln_Keq = np.log(args[\"Keq_gmean\"].m_as(\"\"))\n",
    "ln_kcatf = np.log(args[\"kcatf_gmean\"].m_as(\"1/s\"))\n",
    "ln_Km = np.log(args[\"Km_gmean\"].m_as(\"M\"))\n",
    "ln_Ka = np.log(args[\"Ka_gmean\"].m_as(\"M\"))\n",
    "ln_Ki = np.log(args[\"Ki_gmean\"].m_as(\"M\"))\n",
    "ln_conc_met = np.log(args[\"conc_met_gmean\"].m_as(\"M\"))\n",
    "\n",
    "args[\"kcatr_gmean\"] = np.exp(_ln_kcatr(ln_kcatf, ln_Km, ln_Keq, S).value) * Q_(\"1/s\")\n"
   ]
  },
  {
   "cell_type": "code",
   "execution_count": 7,
   "metadata": {},
   "outputs": [
    {
     "name": "stdout",
     "output_type": "stream",
     "text": [
      "Feasible\n"
     ]
    }
   ],
   "source": [
    "# check that the driving forces at the mode are all positive\n",
    "if (_driving_forces(ln_Keq, ln_conc_met, S).value >= 1e-6).all():\n",
    "    print(\"Feasible\")\n",
    "else:\n",
    "    raise Exception(\"Infeasible\")"
   ]
  },
  {
   "cell_type": "code",
   "execution_count": 8,
   "metadata": {},
   "outputs": [
    {
     "name": "stdout",
     "output_type": "stream",
     "text": [
      "************ rate law = CM **************\n",
      "\n",
      "initial Z-score = 0.00e+00\n",
      "optimal Z-score = 4.41e-07\n",
      "\n",
      "Metabolite concentrations (M) =\n",
      " [[2.00000109e-03 1.00000394e-02 2.00000469e-03 1.00000000e-03]\n",
      " [1.99999974e-04 9.99999847e-05 3.00001397e-04 1.00000073e-04]\n",
      " [1.00000072e-05 9.99999296e-06 9.99997419e-06 1.00000050e-05]]\n",
      "\n",
      "Enzyme concentrations (M) =\n",
      " [[0.00652748 0.00090145 0.01081944 0.01070925]\n",
      " [0.00030499 0.00041367 0.00053915 0.00020683]\n",
      " [0.001212   0.00112234 0.0004362  0.00448935]]\n",
      "\n",
      "Driving forces (RT) =\n",
      " [[3.91229426 6.21488277 3.50682616 3.91229285]\n",
      " [4.09445398 3.4013082  4.49992718 3.40130788]\n",
      " [4.60526666 3.91212088 5.01073986 3.91212056]]\n",
      "\n",
      "η(thr) =\n",
      " [[0.98 1.   0.97 0.98]\n",
      " [0.98 0.97 0.99 0.97]\n",
      " [0.99 0.98 0.99 0.98]]\n",
      "\n",
      "η(kin) =\n",
      " [[0.06 0.33 0.05 0.05]\n",
      " [0.67 0.5  0.75 0.5 ]\n",
      " [0.17 0.09 0.23 0.09]]\n",
      "\n",
      "η(reg) =\n",
      " [[1. 1. 1. 1.]\n",
      " [1. 1. 1. 1.]\n",
      " [1. 1. 1. 1.]]\n",
      "\n",
      "\n",
      "\n",
      "\n",
      "All Z-scores\n",
      "--------------------------------------------------\n",
      "enzymes =  0.0\n",
      "metabolites =  0.0\n",
      "Keq =  0.0\n",
      "kcat forward =  0.0\n",
      "kcat reverse =  0.0\n",
      "Km =  0.0\n",
      "Ka =  0.0\n",
      "Ki =  0.0\n"
     ]
    }
   ],
   "source": [
    "solver = \"SCS\"\n",
    "#solver = \"ECOS\"\n",
    "\n",
    "for rate_law in [\"CM\"]:#[\"S\", \"1S\", \"SP\", \"1SP\", \"CM\"]:\n",
    "    print(f\"************ rate law = {rate_law} **************\\n\")\n",
    "    args[\"conc_enz_gmean\"] = np.exp(\n",
    "        _ln_conc_enz(\n",
    "            ln_Keq, ln_kcatf, ln_Km, ln_Ka, ln_Ki, ln_conc_met,\n",
    "            fluxes, S, A_act, A_inh , rate_law=rate_law).value\n",
    "    ) * Q_(\"M\")\n",
    "    args[\"rate_law\"] = rate_law\n",
    "\n",
    "    solve(\n",
    "        **args,\n",
    "        solver=solver\n",
    "    )"
   ]
  },
  {
   "cell_type": "markdown",
   "metadata": {},
   "source": [
    "from model_balancing import _z_score, _ln_capacity, _ln_eta_thermodynamic, _ln_eta_kinetic, _ln_eta_regulation\n",
    "\n",
    "fluxes, S, A_act, A_inh = args[\"fluxes\"], args[\"S\"], args[\"A_act\"], args[\"A_inh\"]\n",
    "\n",
    "ln_Keq = cp.Variable(3)\n",
    "ln_Keq.value = np.log(args[\"Keq_gmean\"].m_as(\"\"))\n",
    "\n",
    "ln_kcatf = cp.Variable(3, )\n",
    "ln_kcatf.value = np.log(args[\"kcatf_gmean\"].m_as(\"1/s\"))\n",
    "\n",
    "ln_Km = cp.Variable(args[\"Km_gmean\"].size)\n",
    "ln_Km.value = np.log(args[\"Km_gmean\"].m_as(\"M\"))\n",
    "\n",
    "ln_conc_met = cp.Variable(shape=(3, 4))\n",
    "ln_conc_met.value = np.log(args[\"conc_met_gmean\"].m_as(\"M\"))\n",
    "\n",
    "ln_kcatr = _ln_kcatr(ln_kcatf, ln_Km, ln_Keq, S)\n",
    "\n",
    "driving_forces = _driving_forces(ln_Keq, ln_conc_met, S)\n",
    "\n",
    "ln_capacity = _ln_capacity(fluxes, ln_kcatf)\n",
    "ln_eta_thermodynamic = _ln_eta_thermodynamic(driving_forces)\n",
    "ln_eta_kinetic = _ln_eta_kinetic(ln_conc_met, ln_Km, S, rate_law=\"S\")\n",
    "ln_eta_regulation = _ln_eta_regulation(ln_conc_met, ln_Ka, ln_Ki, A_act, A_inh)\n",
    "ln_conc_enz = ln_capacity - ln_eta_thermodynamic - ln_eta_kinetic - ln_eta_regulation\n",
    "\n",
    "ln_conc_enz.value"
   ]
  },
  {
   "cell_type": "markdown",
   "metadata": {},
   "source": [
    "z2_scores_met = sum(cp.square((ln_conc_met - np.log(args[\"conc_met_gmean\"].m_as(\"M\"))) / np.log(args[\"conc_met_gstd\"])).flatten())\n",
    "z2_scores_kcatr = _z_score(ln_kcatr, np.log(args[\"kcatr_gmean\"].m_as(\"1/s\")), args[\"kcatr_ln_cov\"])\n",
    "z2_scores_Keq = _z_score(ln_Keq, np.log(args[\"Keq_gmean\"].m_as(\"\")), args[\"Keq_ln_cov\"])\n",
    "z2_scores_kcatf = _z_score(ln_kcatf, np.log(args[\"kcatf_gmean\"].m_as(\"1/s\")), args[\"kcatf_ln_cov\"])\n",
    "z2_scores_Km = _z_score(ln_Km, np.log(args[\"Km_gmean\"].m_as(\"M\")), args[\"Km_ln_cov\"])\n",
    "z2_scores_enz = sum(cp.square(\n",
    "    cp.pos(ln_conc_enz - np.log(args['conc_enz_gmean'].m_as(\"M\"))) / np.log(args[\"conc_enz_gstd\"])\n",
    ").flatten())\n",
    "\n",
    "objective = cp.Minimize(\n",
    "        z2_scores_met +\n",
    "        z2_scores_Keq +\n",
    "        z2_scores_kcatf +\n",
    "        z2_scores_Km +\n",
    "        z2_scores_kcatr +\n",
    "        z2_scores_enz\n",
    "    )"
   ]
  },
  {
   "cell_type": "markdown",
   "metadata": {},
   "source": [
    "objective.value"
   ]
  },
  {
   "cell_type": "markdown",
   "metadata": {},
   "source": [
    "_ln_conc_enz(ln_Keq, ln_kcatf, ln_Km, ln_Ka, ln_Ki, ln_conc_met, fluxes, S, A_act, A_inh , rate_law=\"S\").value"
   ]
  },
  {
   "cell_type": "markdown",
   "metadata": {},
   "source": []
  }
 ],
 "metadata": {
  "kernelspec": {
   "display_name": "Python 3",
   "language": "python",
   "name": "python3"
  },
  "language_info": {
   "codemirror_mode": {
    "name": "ipython",
    "version": 3
   },
   "file_extension": ".py",
   "mimetype": "text/x-python",
   "name": "python",
   "nbconvert_exporter": "python",
   "pygments_lexer": "ipython3",
   "version": "3.8.2"
  }
 },
 "nbformat": 4,
 "nbformat_minor": 4
}
