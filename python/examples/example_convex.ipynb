{
 "cells": [
  {
   "cell_type": "code",
   "execution_count": 2,
   "metadata": {},
   "outputs": [],
   "source": [
    "import json\n",
    "import numpy as np\n",
    "from model_balancing.model_balancing_cvx import ModelBalancingConvex, Q_\n",
    "import cvxpy as cp\n",
    "import pandas as pd\n",
    "from sbtab import SBtab"
   ]
  },
  {
   "cell_type": "code",
   "execution_count": 4,
   "metadata": {},
   "outputs": [],
   "source": [
    "with open(\"../cvxpy/examples/json/branch_point_model_artificial_noisefree_state_no_kinetic.json\", \"rt\") as fp:\n",
    "    data = json.load(fp)\n",
    "\n",
    "keq_standard_concentration = Q_(data[\"standard_concentration\"])\n",
    "\n",
    "args = {}\n",
    "args[\"S\"] = np.array(data[\"network\"][\"stoichiometric_matrix\"])\n",
    "args[\"A_act\"] = np.array(data[\"network\"][\"activation_matrix\"])\n",
    "args[\"A_inh\"] = np.array(data[\"network\"][\"inhibition_matrix\"])\n",
    "args[\"fluxes\"] = Q_(data[\"reaction_fluxes\"][\"data\"][\"mean\"], data[\"reaction_fluxes\"][\"unit\"])\n",
    "\n",
    "args[\"Keq_gmean\"] = Q_(data[\"kinetic_constants\"][\"Keq\"][\"combined\"][\"geom_mean\"], \"\")\n",
    "\n",
    "# \"fix\" the standard concentration (to a convention where it is 1 M which is used internally)\n",
    "args[\"Keq_gmean\"] *= np.power(keq_standard_concentration.m_as(\"M\"), args[\"S\"].sum(axis=0))\n",
    "\n",
    "args[\"Keq_ln_cov\"] = np.array(data[\"kinetic_constants\"][\"Keq\"][\"combined\"][\"cov_ln\"])\n",
    "\n",
    "args[\"kcatf_gmean\"] = Q_(data[\"kinetic_constants\"][\"Kcatf\"][\"combined\"][\"geom_mean\"], data[\"kinetic_constants\"][\"Kcatf\"][\"unit\"])\n",
    "args[\"kcatf_ln_cov\"] = np.array(data[\"kinetic_constants\"][\"Kcatf\"][\"combined\"][\"cov_ln\"])\n",
    "\n",
    "args[\"kcatr_gmean\"] = Q_(data[\"kinetic_constants\"][\"Kcatr\"][\"combined\"][\"geom_mean\"], data[\"kinetic_constants\"][\"Kcatr\"][\"unit\"])\n",
    "args[\"kcatr_ln_cov\"] = np.array(data[\"kinetic_constants\"][\"Kcatr\"][\"combined\"][\"cov_ln\"])\n",
    "\n",
    "args[\"Km_gmean\"] = Q_(data[\"kinetic_constants\"][\"KM\"][\"combined\"][\"geom_mean\"], \"mM\") #data[\"kinetic_constants\"][\"KM\"][\"unit\"])\n",
    "args[\"Km_ln_cov\"] = np.array(data[\"kinetic_constants\"][\"KM\"][\"combined\"][\"cov_ln\"])\n",
    "\n",
    "args[\"Ka_gmean\"] = Q_(data[\"kinetic_constants\"][\"KA\"][\"combined\"][\"geom_mean\"], \"mM\") #data[\"kinetic_constants\"][\"KA\"][\"unit\"])\n",
    "args[\"Ka_ln_cov\"] = np.array(data[\"kinetic_constants\"][\"KA\"][\"combined\"][\"cov_ln\"])\n",
    "\n",
    "args[\"Ki_gmean\"] = Q_(data[\"kinetic_constants\"][\"KI\"][\"combined\"][\"geom_mean\"], \"mM\") #data[\"kinetic_constants\"][\"KI\"][\"unit\"])\n",
    "args[\"Ki_ln_cov\"] = np.array(data[\"kinetic_constants\"][\"KI\"][\"combined\"][\"cov_ln\"])\n",
    "\n",
    "args[\"conc_met_gmean\"] = Q_(data[\"metabolite_concentrations\"][\"combined\"][\"geom_mean\"], data[\"metabolite_concentrations\"][\"unit\"])\n",
    "args[\"conc_met_gstd\"] = np.array(data[\"metabolite_concentrations\"][\"combined\"][\"geom_std\"])\n",
    "\n",
    "args[\"conc_enz_gmean\"] = Q_(data[\"enzyme_concentrations\"][\"combined\"][\"geom_mean\"], data[\"metabolite_concentrations\"][\"unit\"])\n",
    "args[\"conc_enz_gstd\"] = np.array(data[\"enzyme_concentrations\"][\"combined\"][\"geom_std\"])\n",
    "\n",
    "args[\"rate_law\"] = \"CM\"\n",
    "\n",
    "metabolite_names = data[\"network\"][\"metabolite_names\"]\n",
    "reaction_names = data[\"network\"][\"reaction_names\"]"
   ]
  },
  {
   "cell_type": "code",
   "execution_count": 5,
   "metadata": {},
   "outputs": [
    {
     "name": "stderr",
     "output_type": "stream",
     "text": [
      "/home/eladn/git/model-balancing/python/model_balancing/model_balancing_cvx.py:239: RuntimeWarning: invalid value encountered in log\n",
      "  return np.log(self.fluxes.m_as(\"M/s\")) - cp.vstack([ln_kcatf] * self.Ncond).T\n",
      "/home/eladn/git/model-balancing/venv/lib/python3.9/site-packages/cvxpy/atoms/elementwise/log.py:34: RuntimeWarning: invalid value encountered in log\n",
      "  return np.log(values[0])\n"
     ]
    },
    {
     "ename": "ValueError",
     "evalue": "Parameter value must be real.",
     "output_type": "error",
     "traceback": [
      "\u001b[0;31m---------------------------------------------------------------------------\u001b[0m",
      "\u001b[0;31mValueError\u001b[0m                                Traceback (most recent call last)",
      "\u001b[0;32m<ipython-input-5-6776ff97ad51>\u001b[0m in \u001b[0;36m<module>\u001b[0;34m\u001b[0m\n\u001b[1;32m      1\u001b[0m \u001b[0mmb\u001b[0m \u001b[0;34m=\u001b[0m \u001b[0mModelBalancingConvex\u001b[0m\u001b[0;34m(\u001b[0m\u001b[0;34m**\u001b[0m\u001b[0margs\u001b[0m\u001b[0;34m)\u001b[0m\u001b[0;34m\u001b[0m\u001b[0;34m\u001b[0m\u001b[0m\n\u001b[0;32m----> 2\u001b[0;31m \u001b[0mmb\u001b[0m\u001b[0;34m.\u001b[0m\u001b[0minitialize_with_gmeans\u001b[0m\u001b[0;34m(\u001b[0m\u001b[0;34m)\u001b[0m\u001b[0;34m\u001b[0m\u001b[0;34m\u001b[0m\u001b[0m\n\u001b[0m\u001b[1;32m      3\u001b[0m \u001b[0mprint\u001b[0m\u001b[0;34m(\u001b[0m\u001b[0;34m\"kcat reverse comparison:\"\u001b[0m\u001b[0;34m)\u001b[0m\u001b[0;34m\u001b[0m\u001b[0;34m\u001b[0m\u001b[0m\n\u001b[1;32m      4\u001b[0m \u001b[0mprint\u001b[0m\u001b[0;34m(\u001b[0m\u001b[0;34m\"from JSON:  \"\u001b[0m\u001b[0;34m,\u001b[0m \u001b[0margs\u001b[0m\u001b[0;34m[\u001b[0m\u001b[0;34m\"kcatr_gmean\"\u001b[0m\u001b[0;34m]\u001b[0m\u001b[0;34m.\u001b[0m\u001b[0mm_as\u001b[0m\u001b[0;34m(\u001b[0m\u001b[0;34m\"1/s\"\u001b[0m\u001b[0;34m)\u001b[0m\u001b[0;34m)\u001b[0m\u001b[0;34m\u001b[0m\u001b[0;34m\u001b[0m\u001b[0m\n\u001b[1;32m      5\u001b[0m \u001b[0mprint\u001b[0m\u001b[0;34m(\u001b[0m\u001b[0;34m\"calculated: \"\u001b[0m \u001b[0;34m,\u001b[0m \u001b[0mnp\u001b[0m\u001b[0;34m.\u001b[0m\u001b[0mexp\u001b[0m\u001b[0;34m(\u001b[0m\u001b[0mmb\u001b[0m\u001b[0;34m.\u001b[0m\u001b[0mln_kcatr\u001b[0m\u001b[0;34m.\u001b[0m\u001b[0mvalue\u001b[0m\u001b[0;34m)\u001b[0m\u001b[0;34m)\u001b[0m\u001b[0;34m\u001b[0m\u001b[0;34m\u001b[0m\u001b[0m\n",
      "\u001b[0;32m~/git/model-balancing/python/model_balancing/model_balancing_cvx.py\u001b[0m in \u001b[0;36minitialize_with_gmeans\u001b[0;34m(self)\u001b[0m\n\u001b[1;32m    369\u001b[0m \u001b[0;34m\u001b[0m\u001b[0m\n\u001b[1;32m    370\u001b[0m         \u001b[0mself\u001b[0m\u001b[0;34m.\u001b[0m\u001b[0mln_kcatr_gmean\u001b[0m\u001b[0;34m.\u001b[0m\u001b[0mvalue\u001b[0m \u001b[0;34m=\u001b[0m \u001b[0mself\u001b[0m\u001b[0;34m.\u001b[0m\u001b[0mln_kcatr\u001b[0m\u001b[0;34m.\u001b[0m\u001b[0mvalue\u001b[0m\u001b[0;34m\u001b[0m\u001b[0;34m\u001b[0m\u001b[0m\n\u001b[0;32m--> 371\u001b[0;31m         \u001b[0mself\u001b[0m\u001b[0;34m.\u001b[0m\u001b[0mln_conc_enz_gmean\u001b[0m\u001b[0;34m.\u001b[0m\u001b[0mvalue\u001b[0m \u001b[0;34m=\u001b[0m \u001b[0mself\u001b[0m\u001b[0;34m.\u001b[0m\u001b[0mln_conc_enz\u001b[0m\u001b[0;34m.\u001b[0m\u001b[0mvalue\u001b[0m\u001b[0;34m\u001b[0m\u001b[0;34m\u001b[0m\u001b[0m\n\u001b[0m\u001b[1;32m    372\u001b[0m \u001b[0;34m\u001b[0m\u001b[0m\n\u001b[1;32m    373\u001b[0m     \u001b[0;32mdef\u001b[0m \u001b[0msolve\u001b[0m\u001b[0;34m(\u001b[0m\u001b[0mself\u001b[0m\u001b[0;34m)\u001b[0m \u001b[0;34m->\u001b[0m \u001b[0;32mNone\u001b[0m\u001b[0;34m:\u001b[0m\u001b[0;34m\u001b[0m\u001b[0;34m\u001b[0m\u001b[0m\n",
      "\u001b[0;32m~/git/model-balancing/venv/lib/python3.9/site-packages/cvxpy/expressions/constants/parameter.py\u001b[0m in \u001b[0;36mvalue\u001b[0;34m(self, val)\u001b[0m\n\u001b[1;32m     80\u001b[0m     \u001b[0;34m@\u001b[0m\u001b[0mvalue\u001b[0m\u001b[0;34m.\u001b[0m\u001b[0msetter\u001b[0m\u001b[0;34m\u001b[0m\u001b[0;34m\u001b[0m\u001b[0m\n\u001b[1;32m     81\u001b[0m     \u001b[0;32mdef\u001b[0m \u001b[0mvalue\u001b[0m\u001b[0;34m(\u001b[0m\u001b[0mself\u001b[0m\u001b[0;34m,\u001b[0m \u001b[0mval\u001b[0m\u001b[0;34m)\u001b[0m\u001b[0;34m:\u001b[0m\u001b[0;34m\u001b[0m\u001b[0;34m\u001b[0m\u001b[0m\n\u001b[0;32m---> 82\u001b[0;31m         \u001b[0mself\u001b[0m\u001b[0;34m.\u001b[0m\u001b[0m_value\u001b[0m \u001b[0;34m=\u001b[0m \u001b[0mself\u001b[0m\u001b[0;34m.\u001b[0m\u001b[0m_validate_value\u001b[0m\u001b[0;34m(\u001b[0m\u001b[0mval\u001b[0m\u001b[0;34m)\u001b[0m\u001b[0;34m\u001b[0m\u001b[0;34m\u001b[0m\u001b[0m\n\u001b[0m\u001b[1;32m     83\u001b[0m \u001b[0;34m\u001b[0m\u001b[0m\n\u001b[1;32m     84\u001b[0m     \u001b[0;34m@\u001b[0m\u001b[0mproperty\u001b[0m\u001b[0;34m\u001b[0m\u001b[0;34m\u001b[0m\u001b[0m\n",
      "\u001b[0;32m~/git/model-balancing/venv/lib/python3.9/site-packages/cvxpy/expressions/leaf.py\u001b[0m in \u001b[0;36m_validate_value\u001b[0;34m(self, val)\u001b[0m\n\u001b[1;32m    428\u001b[0m                 \u001b[0;32melse\u001b[0m\u001b[0;34m:\u001b[0m\u001b[0;34m\u001b[0m\u001b[0;34m\u001b[0m\u001b[0m\n\u001b[1;32m    429\u001b[0m                     \u001b[0mattr_str\u001b[0m \u001b[0;34m=\u001b[0m \u001b[0;34m(\u001b[0m\u001b[0;34m[\u001b[0m\u001b[0mk\u001b[0m \u001b[0;32mfor\u001b[0m \u001b[0;34m(\u001b[0m\u001b[0mk\u001b[0m\u001b[0;34m,\u001b[0m \u001b[0mv\u001b[0m\u001b[0;34m)\u001b[0m \u001b[0;32min\u001b[0m \u001b[0mself\u001b[0m\u001b[0;34m.\u001b[0m\u001b[0mattributes\u001b[0m\u001b[0;34m.\u001b[0m\u001b[0mitems\u001b[0m\u001b[0;34m(\u001b[0m\u001b[0;34m)\u001b[0m \u001b[0;32mif\u001b[0m \u001b[0mv\u001b[0m\u001b[0;34m]\u001b[0m \u001b[0;34m+\u001b[0m \u001b[0;34m[\u001b[0m\u001b[0;34m'real'\u001b[0m\u001b[0;34m]\u001b[0m\u001b[0;34m)\u001b[0m\u001b[0;34m[\u001b[0m\u001b[0;36m0\u001b[0m\u001b[0;34m]\u001b[0m\u001b[0;34m\u001b[0m\u001b[0;34m\u001b[0m\u001b[0m\n\u001b[0;32m--> 430\u001b[0;31m                 raise ValueError(\n\u001b[0m\u001b[1;32m    431\u001b[0m                     \u001b[0;34m\"%s value must be %s.\"\u001b[0m \u001b[0;34m%\u001b[0m \u001b[0;34m(\u001b[0m\u001b[0mself\u001b[0m\u001b[0;34m.\u001b[0m\u001b[0m__class__\u001b[0m\u001b[0;34m.\u001b[0m\u001b[0m__name__\u001b[0m\u001b[0;34m,\u001b[0m \u001b[0mattr_str\u001b[0m\u001b[0;34m)\u001b[0m\u001b[0;34m\u001b[0m\u001b[0;34m\u001b[0m\u001b[0m\n\u001b[1;32m    432\u001b[0m                 )\n",
      "\u001b[0;31mValueError\u001b[0m: Parameter value must be real."
     ]
    }
   ],
   "source": [
    "mb = ModelBalancingConvex(**args)\n",
    "mb.initialize_with_gmeans()\n",
    "print(\"kcat reverse comparison:\")\n",
    "print(\"from JSON:  \", args[\"kcatr_gmean\"].m_as(\"1/s\"))\n",
    "print(\"calculated: \" , np.exp(mb.ln_kcatr.value))"
   ]
  },
  {
   "cell_type": "code",
   "execution_count": 4,
   "metadata": {},
   "outputs": [
    {
     "name": "stdout",
     "output_type": "stream",
     "text": [
      "enzyme concentration comparison:\n",
      "from JSON:  \n",
      " [[1.74991311e-06 1.58257659e-06 5.01929073e-07 4.41456915e-07]\n",
      " [1.44387710e-06 3.31349350e-06 1.36297300e-06 1.43373983e-06]\n",
      " [9.39168869e-07 3.45175677e-07 1.29820842e-06 1.23089965e-06]]\n",
      "calculated: \n",
      " [[1.74820954e-06 1.58036686e-06 5.01694593e-07 4.41213742e-07]\n",
      " [1.44394132e-06 3.31662521e-06 1.36332578e-06 1.43442925e-06]\n",
      " [9.39100790e-07 3.45080990e-07 1.29855222e-06 1.23140778e-06]]\n"
     ]
    }
   ],
   "source": [
    "print(\"enzyme concentration comparison:\")\n",
    "print(\"from JSON:  \\n\", args[\"conc_enz_gmean\"].m_as(\"M\"))\n",
    "print(\"calculated: \\n\" , np.exp(mb.ln_conc_enz.value))"
   ]
  },
  {
   "cell_type": "code",
   "execution_count": 5,
   "metadata": {},
   "outputs": [
    {
     "name": "stdout",
     "output_type": "stream",
     "text": [
      "Setting enzyme conc. and kcatr gmeans to calculated values...\n",
      "[ 97.62328423   7.22549632 138.09477545]\n",
      "initial total squared Z-scores = 0.000\n",
      "enz = 0.0\n",
      "met = 0.0\n",
      "Keq = 0.0\n",
      "kcatf = 0.0\n",
      "kcatr = 0.0\n",
      "Km = 0.0\n",
      "Ka = 0.0\n",
      "Ki = 0.0\n",
      "CPU times: user 435 ms, sys: 7.82 ms, total: 443 ms\n",
      "Wall time: 436 ms\n"
     ]
    }
   ],
   "source": [
    "%%time\n",
    "\n",
    "mb = ModelBalancingConvex(**args)\n",
    "\n",
    "print(\"Setting enzyme conc. and kcatr gmeans to calculated values...\")\n",
    "# check that the driving forces at the mode are all positive\n",
    "assert mb.is_gmean_feasible()\n",
    "\n",
    "mb.initialize_with_gmeans()\n",
    "print(np.exp(mb.ln_kcatr_gmean.value))\n",
    "\n",
    "print(f\"initial total squared Z-scores = {mb.objective_value:.3f}\")\n",
    "mb.print_z_scores()"
   ]
  },
  {
   "cell_type": "code",
   "execution_count": 6,
   "metadata": {},
   "outputs": [
    {
     "name": "stdout",
     "output_type": "stream",
     "text": [
      "optimized total squared Z-scores = 0.000\n",
      "------------------------- All Z-scores -------------------------\n",
      "enz = 0.0\n",
      "met = 0.0\n",
      "Keq = 0.0\n",
      "kcatf = 0.0\n",
      "kcatr = 0.0\n",
      "Km = 0.0\n",
      "Ka = 0.0\n",
      "Ki = 0.0\n"
     ]
    }
   ],
   "source": [
    "mb.solve()\n",
    "print(f\"optimized total squared Z-scores = {mb.objective_value:.3f}\")\n",
    "print(\"-\"*25 + \" All Z-scores \" + \"-\"*25)\n",
    "mb.print_z_scores()"
   ]
  },
  {
   "cell_type": "code",
   "execution_count": 7,
   "metadata": {},
   "outputs": [
    {
     "name": "stdout",
     "output_type": "stream",
     "text": [
      "optimized total squared Z-scores = 0.000\n",
      "------------------------- All Z-scores -------------------------\n",
      "enz = 0.0\n",
      "met = 0.0\n",
      "Keq = 0.0\n",
      "kcatf = 0.0\n",
      "kcatr = 0.0\n",
      "Km = 0.0\n",
      "Ka = 0.0\n",
      "Ki = 0.0\n",
      "CPU times: user 4.16 s, sys: 505 ms, total: 4.66 s\n",
      "Wall time: 4.5 s\n"
     ]
    }
   ],
   "source": [
    "%%time\n",
    "\n",
    "mb = ModelBalancingConvex(**args)\n",
    "mb.solve()\n",
    "print(f\"optimized total squared Z-scores = {mb.objective_value:.3f}\")\n",
    "print(\"-\"*25 + \" All Z-scores \" + \"-\"*25)\n",
    "mb.print_z_scores()"
   ]
  },
  {
   "cell_type": "code",
   "execution_count": 8,
   "metadata": {},
   "outputs": [
    {
     "data": {
      "text/plain": [
       "True"
      ]
     },
     "execution_count": 8,
     "metadata": {},
     "output_type": "execute_result"
    }
   ],
   "source": [
    "sbtabdoc = SBtab.SBtabDocument(name=\"balanced_states\")\n",
    "\n",
    "flux_df = pd.DataFrame(\n",
    "    mb.fluxes.m_as(\"mM/s\"),\n",
    "    columns=[\"S1\", \"S2\", \"S3\", \"S4\"]\n",
    ")\n",
    "flux_df.insert(0, \"!QuantityType\", \"rate of reaction\")\n",
    "flux_df.insert(1, \"!Reaction\", [\"E1\", \"E2\", \"E3\"])\n",
    "flux_sbtab = SBtab.SBtabTable.from_data_frame(\n",
    "    flux_df.astype(str),\n",
    "    table_id=\"MetabolicFlux\",\n",
    "    table_name=\"MetabolicFlux\",\n",
    "    table_type=\"QuantityMatrix\",\n",
    "    unit=\"mM/s\",\n",
    ")\n",
    "sbtabdoc.add_sbtab(flux_sbtab)\n",
    "\n",
    "c = Q_(np.exp(mb.ln_conc_met.value), \"M\")\n",
    "conc_met_df = pd.DataFrame(\n",
    "    c.m_as(\"mM\"),\n",
    "    columns=[\"S1\", \"S2\", \"S3\", \"S4\"]\n",
    ")\n",
    "conc_met_df.insert(0, \"!QuantityType\", \"concentration\")\n",
    "conc_met_df.insert(1, \"!Compound\", [\"X1\", \"S2\", \"X3\", \"X4\"])\n",
    "conc_met_sbtab = SBtab.SBtabTable.from_data_frame(\n",
    "    conc_met_df.astype(str),\n",
    "    table_id=\"MetaboliteConcentrations\",\n",
    "    table_name=\"Metabolite concentrations\",\n",
    "    table_type=\"QuantityMatrix\",\n",
    "    unit=\"mM\",\n",
    ")\n",
    "sbtabdoc.add_sbtab(conc_met_sbtab)\n",
    "\n",
    "e = Q_(np.exp(mb.ln_conc_enz.value), \"M\")\n",
    "conc_enz_df = pd.DataFrame(\n",
    "    e.m_as(\"mM\"),\n",
    "    columns=[\"S1\", \"S2\", \"S3\", \"S4\"]\n",
    ")\n",
    "conc_enz_df.insert(0, \"!QuantityType\", \"concentration of enzyme\")\n",
    "conc_enz_df.insert(1, \"!Reaction\", [\"E1\", \"E2\", \"E3\"])\n",
    "conc_enz_sbtab = SBtab.SBtabTable.from_data_frame(\n",
    "    conc_enz_df.astype(str),\n",
    "    table_id=\"EnzymeConcentrations\",\n",
    "    table_name=\"Enzyme concentrations\",\n",
    "    table_type=\"QuantityMatrix\",\n",
    "    unit=\"mM\",\n",
    ")\n",
    "sbtabdoc.add_sbtab(conc_enz_sbtab)\n",
    "\n",
    "gibbs_energy_df = pd.DataFrame(\n",
    "    -mb.driving_forces.value,\n",
    "    columns=[\"S1\", \"S2\", \"S3\", \"S4\"]\n",
    ")\n",
    "gibbs_energy_df.insert(0, \"!QuantityType\", \"Gibbs energy of reaction\")\n",
    "gibbs_energy_df.insert(1, \"!Reaction\", [\"E1\", \"E2\", \"E3\"])\n",
    "gibbs_energy_sbtab = SBtab.SBtabTable.from_data_frame(\n",
    "    gibbs_energy_df.astype(str),\n",
    "    table_id=\"ReactionGibbsFreeEnergy\",\n",
    "    table_name=\"Gibbs free energies of reaction\",\n",
    "    table_type=\"QuantityMatrix\",\n",
    "    unit=\"kJ/mol\",\n",
    ")\n",
    "sbtabdoc.add_sbtab(gibbs_energy_sbtab)\n",
    "\n",
    "kcatf = Q_(np.exp(mb.ln_kcatf.value), \"1/s\")\n",
    "kcatr = Q_(np.exp(mb.ln_kcatr.value), \"1/s\")\n",
    "kcat_df = pd.DataFrame(\n",
    "    np.vstack([kcatf.m_as(\"1/s\"), kcatr.m_as(\"1/s\")]).T,\n",
    "    columns=[\"kcatf\", \"kcatr\"]\n",
    ")\n",
    "kcat_df.insert(0, \"!QuantityType\", \"catalytic rate constant\")\n",
    "kcat_df.insert(1, \"!Reaction\", [\"E1\", \"E2\", \"E3\"])\n",
    "kcat_sbtab = SBtab.SBtabTable.from_data_frame(\n",
    "    kcat_df.astype(str),\n",
    "    table_id=\"CatalyticRateConstant\",\n",
    "    table_name=\"Catalytic rate constant\",\n",
    "    table_type=\"QuantityMatrix\",\n",
    "    unit=\"1/s\",\n",
    ")\n",
    "sbtabdoc.add_sbtab(kcat_sbtab)\n",
    "\n",
    "Km = Q_(np.exp(mb._create_dense_matrix(mb.S, mb.ln_Km).value), \"M\")\n",
    "Km_df = pd.DataFrame(\n",
    "    Km.m_as(\"mM\").T,\n",
    "    columns=[\"X1\", \"S2\", \"X3\", \"X4\"]\n",
    ")\n",
    "Km_df.insert(0, \"!QuantityType\", \"Michaelis constant\")\n",
    "Km_df.insert(1, \"!Reaction\", [\"E1\", \"E2\", \"E3\"])\n",
    "Km_sbtab = SBtab.SBtabTable.from_data_frame(\n",
    "    Km_df.astype(str),\n",
    "    table_id=\"MichaelisConstant\",\n",
    "    table_name=\"Michaelis-Menten constant\",\n",
    "    table_type=\"QuantityMatrix\",\n",
    "    unit=\"mM\",\n",
    ")\n",
    "sbtabdoc.add_sbtab(Km_sbtab)\n",
    "\n",
    "Ka = Q_(np.exp(mb._create_dense_matrix(mb.S, mb.ln_Ka)), \"M\")\n",
    "Ka_df = pd.DataFrame(\n",
    "    Ka.m_as(\"mM\").T,\n",
    "    columns=[\"X1\", \"S2\", \"X3\", \"X4\"]\n",
    ")\n",
    "Ka_df.insert(0, \"!QuantityType\", \"activation constant\")\n",
    "Ka_df.insert(1, \"!Reaction\", [\"E1\", \"E2\", \"E3\"])\n",
    "Ka_sbtab = SBtab.SBtabTable.from_data_frame(\n",
    "    Ka_df.astype(str),\n",
    "    table_id=\"ActivationConstant\",\n",
    "    table_name=\"Activation constant\",\n",
    "    table_type=\"QuantityMatrix\",\n",
    "    unit=\"mM\",\n",
    ")\n",
    "sbtabdoc.add_sbtab(Ka_sbtab)\n",
    "\n",
    "Ki = Q_(np.exp(mb._create_dense_matrix(mb.S, mb.ln_Ki)), \"M\")\n",
    "Ki_df = pd.DataFrame(\n",
    "    Ki.m_as(\"mM\").T,\n",
    "    columns=[\"X1\", \"S2\", \"X3\", \"X4\"]\n",
    ")\n",
    "Ki_df.insert(0, \"!QuantityType\", \"inhibition constant\")\n",
    "Ki_df.insert(1, \"!Reaction\", [\"E1\", \"E2\", \"E3\"])\n",
    "Ki_sbtab = SBtab.SBtabTable.from_data_frame(\n",
    "    Ki_df.astype(str),\n",
    "    table_id=\"InhibitionConstant\",\n",
    "    table_name=\"Inhibition constant\",\n",
    "    table_type=\"QuantityMatrix\",\n",
    "    unit=\"mM\",\n",
    ")\n",
    "sbtabdoc.add_sbtab(Ki_sbtab)"
   ]
  },
  {
   "cell_type": "code",
   "execution_count": 9,
   "metadata": {},
   "outputs": [
    {
     "name": "stdout",
     "output_type": "stream",
     "text": [
      "!!!SBtab DocumentName='balanced_states' SBtabVersion='1.0' Date='2021-4-5'\n",
      "!!SBtab TableID='MetabolicFlux' TableType='QuantityMatrix' TableName='MetabolicFlux' SBtabVersion='1.0' Unit='mM/s'\n",
      "!QuantityType\t!Reaction\tS1\tS2\tS3\tS4\n",
      "rate of reaction\tE1\t0.021387373764911267\t0.01460085302465973\t0.011737199044558173\t0.009199216810779395\n",
      "rate of reaction\tE2\t0.021387372521010195\t0.014588598605683439\t0.011737199044527745\t0.009199199058691014\n",
      "rate of reaction\tE3\t0.02138737477565732\t0.014313621496418424\t0.011737199044230595\t0.009199219113649869\n",
      "\n",
      "!!SBtab TableID='MetaboliteConcentrations' TableType='QuantityMatrix' TableName='Metabolite concentrations' SBtabVersion='1.0' Unit='mM'\n",
      "!QuantityType\t!Compound\tS1\tS2\tS3\tS4\n",
      "concentration\tX1\t6.376118804041782\t10.748467242280432\t13.831139243968131\t10.698178860894133\n",
      "concentration\tS2\t0.15999513383275463\t0.337406399956373\t0.07259622428086908\t0.10057633324432365\n",
      "concentration\tX3\t1.1233084551350212\t4.703127578088726\t0.7065781144829528\t1.166876240668952\n",
      "concentration\tX4\t0.7973102851223949\t0.7079450594789459\t0.9062529601162091\t1.610329223653342\n",
      "\n",
      "!!SBtab TableID='EnzymeConcentrations' TableType='QuantityMatrix' TableName='Enzyme concentrations' SBtabVersion='1.0' Unit='mM'\n",
      "!QuantityType\t!Reaction\tS1\tS2\tS3\tS4\n",
      "concentration of enzyme\tE1\t0.0017481894718348488\t0.0015805196804158854\t0.0005016782562414673\t0.00044120347716839067\n",
      "concentration of enzyme\tE2\t0.0014437183710563604\t0.003313564903366028\t0.0013629413399987142\t0.0014337586879557501\n",
      "concentration of enzyme\tE3\t0.0009389783743910979\t0.00034505602402455394\t0.0012981972357904087\t0.0012309066112622486\n",
      "\n",
      "!!SBtab TableID='ReactionGibbsFreeEnergy' TableType='QuantityMatrix' TableName='Gibbs free energies of reaction' SBtabVersion='1.0' Unit='kJ/mol'\n",
      "!QuantityType\t!Reaction\tS1\tS2\tS3\tS4\n",
      "Gibbs energy of reaction\tE1\t-0.7404895745263023\t-0.5165484253412025\t-2.3050830052240086\t-1.7222299545305386\n",
      "Gibbs energy of reaction\tE2\t-1.1722595441926464\t-0.48645486048529696\t-0.8456288825112526\t-0.6699811270674556\n",
      "Gibbs energy of reaction\tE3\t-0.9078504992623129\t-2.4586773484184024\t-0.31617611991229366\t-0.24295248467980968\n",
      "\n",
      "!!SBtab TableID='CatalyticRateConstant' TableType='QuantityMatrix' TableName='Catalytic rate constant' SBtabVersion='1.0' Unit='1/s'\n",
      "!QuantityType\t!Reaction\tkcatf\tkcatr\n",
      "catalytic rate constant\tE1\t26.954214197335766\t97.63664067338453\n",
      "catalytic rate constant\tE2\t877.1142241048966\t7.222199534331776\n",
      "catalytic rate constant\tE3\t47.97207080573379\t138.1085484491025\n",
      "\n",
      "!!SBtab TableID='MichaelisConstant' TableType='QuantityMatrix' TableName='Michaelis-Menten constant' SBtabVersion='1.0' Unit='mM'\n",
      "!QuantityType\t!Reaction\tX1\tS2\tX3\tX4\n",
      "Michaelis constant\tE1\t0.1332382522371052\t0.025395454514819168\t1000.0000000000001\t1000.0000000000001\n",
      "Michaelis constant\tE2\t1000.0000000000001\t0.36243620063362597\t0.06766171526810118\t1000.0000000000001\n",
      "Michaelis constant\tE3\t1000.0000000000001\t1000.0000000000001\t0.13077964926660682\t0.6624834966340295\n",
      "\n",
      "!!SBtab TableID='ActivationConstant' TableType='QuantityMatrix' TableName='Activation constant' SBtabVersion='1.0' Unit='mM'\n",
      "!QuantityType\t!Reaction\tX1\tS2\tX3\tX4\n",
      "activation constant\tE1\t1000.0000000000001\t1000.0000000000001\t1000.0000000000001\t1000.0000000000001\n",
      "activation constant\tE2\t1000.0000000000001\t1000.0000000000001\t1000.0000000000001\t1000.0000000000001\n",
      "activation constant\tE3\t1000.0000000000001\t1000.0000000000001\t1000.0000000000001\t1000.0000000000001\n",
      "\n",
      "!!SBtab TableID='InhibitionConstant' TableType='QuantityMatrix' TableName='Inhibition constant' SBtabVersion='1.0' Unit='mM'\n",
      "!QuantityType\t!Reaction\tX1\tS2\tX3\tX4\n",
      "inhibition constant\tE1\t1000.0000000000001\t1000.0000000000001\t1000.0000000000001\t1000.0000000000001\n",
      "inhibition constant\tE2\t1000.0000000000001\t1000.0000000000001\t1000.0000000000001\t1000.0000000000001\n",
      "inhibition constant\tE3\t1000.0000000000001\t1000.0000000000001\t1000.0000000000001\t1000.0000000000001\n",
      "\n",
      "\n"
     ]
    }
   ],
   "source": [
    "print(sbtabdoc.to_str())\n",
    "sbtabdoc.write(\"balanced_states_cvx.tsv\");"
   ]
  },
  {
   "cell_type": "code",
   "execution_count": null,
   "metadata": {},
   "outputs": [],
   "source": []
  }
 ],
 "metadata": {
  "kernelspec": {
   "display_name": "Python 3",
   "language": "python",
   "name": "python3"
  },
  "language_info": {
   "codemirror_mode": {
    "name": "ipython",
    "version": 3
   },
   "file_extension": ".py",
   "mimetype": "text/x-python",
   "name": "python",
   "nbconvert_exporter": "python",
   "pygments_lexer": "ipython3",
   "version": "3.9.4"
  }
 },
 "nbformat": 4,
 "nbformat_minor": 4
}
