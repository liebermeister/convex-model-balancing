{
 "cells": [
  {
   "cell_type": "code",
   "execution_count": 1,
   "metadata": {},
   "outputs": [],
   "source": [
    "import json\n",
    "import numpy as np\n",
    "from model_balancing import ModelBalancing, Q_\n",
    "import cvxpy as cp\n",
    "import pandas as pd\n",
    "from sbtab import SBtab"
   ]
  },
  {
   "cell_type": "code",
   "execution_count": 2,
   "metadata": {},
   "outputs": [],
   "source": [
    "with open(\"../cvxpy/examples/json/three_chain_model_artificial_noisefree_state_noisy_Keq_alpha0.json\", \"rt\") as fp:\n",
    "    data = json.load(fp)\n",
    "\n",
    "keq_standard_concentration = Q_(data[\"standard_concentration\"])\n",
    "\n",
    "args = {}\n",
    "args[\"S\"] = np.array(data[\"network\"][\"stoichiometric_matrix\"])\n",
    "args[\"A_act\"] = np.array(data[\"network\"][\"activation_matrix\"])\n",
    "args[\"A_inh\"] = np.array(data[\"network\"][\"inhibition_matrix\"])\n",
    "args[\"fluxes\"] = Q_(data[\"reaction_fluxes\"][\"data\"][\"mean\"], data[\"reaction_fluxes\"][\"unit\"])\n",
    "\n",
    "args[\"Keq_gmean\"] = Q_(data[\"kinetic_constants\"][\"Keq\"][\"combined\"][\"geom_mean\"], \"\")\n",
    "\n",
    "# \"fix\" the standard concentration (to a convention where it is 1 M which is used internally)\n",
    "args[\"Keq_gmean\"] *= np.power(keq_standard_concentration.m_as(\"M\"), args[\"S\"].sum(axis=0))\n",
    "\n",
    "args[\"Keq_ln_cov\"] = np.array(data[\"kinetic_constants\"][\"Keq\"][\"combined\"][\"cov_ln\"])\n",
    "\n",
    "args[\"kcatf_gmean\"] = Q_(data[\"kinetic_constants\"][\"Kcatf\"][\"combined\"][\"geom_mean\"], data[\"kinetic_constants\"][\"Kcatf\"][\"unit\"])\n",
    "args[\"kcatf_ln_cov\"] = np.array(data[\"kinetic_constants\"][\"Kcatf\"][\"combined\"][\"cov_ln\"])\n",
    "\n",
    "args[\"kcatr_gmean\"] = Q_(data[\"kinetic_constants\"][\"Kcatr\"][\"combined\"][\"geom_mean\"], data[\"kinetic_constants\"][\"Kcatr\"][\"unit\"])\n",
    "args[\"kcatr_ln_cov\"] = np.array(data[\"kinetic_constants\"][\"Kcatr\"][\"combined\"][\"cov_ln\"])\n",
    "\n",
    "args[\"Km_gmean\"] = Q_(data[\"kinetic_constants\"][\"KM\"][\"combined\"][\"geom_mean\"], \"mM\") #data[\"kinetic_constants\"][\"KM\"][\"unit\"])\n",
    "args[\"Km_ln_cov\"] = np.array(data[\"kinetic_constants\"][\"KM\"][\"combined\"][\"cov_ln\"])\n",
    "\n",
    "args[\"Ka_gmean\"] = Q_(data[\"kinetic_constants\"][\"KA\"][\"combined\"][\"geom_mean\"], \"mM\") #data[\"kinetic_constants\"][\"KA\"][\"unit\"])\n",
    "args[\"Ka_ln_cov\"] = np.array(data[\"kinetic_constants\"][\"KA\"][\"combined\"][\"cov_ln\"])\n",
    "\n",
    "args[\"Ki_gmean\"] = Q_(data[\"kinetic_constants\"][\"KI\"][\"combined\"][\"geom_mean\"], \"mM\") #data[\"kinetic_constants\"][\"KI\"][\"unit\"])\n",
    "args[\"Ki_ln_cov\"] = np.array(data[\"kinetic_constants\"][\"KI\"][\"combined\"][\"cov_ln\"])\n",
    "\n",
    "args[\"conc_met_gmean\"] = Q_(data[\"metabolite_concentrations\"][\"combined\"][\"geom_mean\"], data[\"metabolite_concentrations\"][\"unit\"])\n",
    "args[\"conc_met_gstd\"] = np.array(data[\"metabolite_concentrations\"][\"combined\"][\"geom_std\"])\n",
    "\n",
    "args[\"conc_enz_gmean\"] = Q_(data[\"enzyme_concentrations\"][\"combined\"][\"geom_mean\"], data[\"metabolite_concentrations\"][\"unit\"])\n",
    "args[\"conc_enz_gstd\"] = np.array(data[\"enzyme_concentrations\"][\"combined\"][\"geom_std\"])\n",
    "\n",
    "args[\"rate_law\"] = \"CM\"\n",
    "\n",
    "metabolite_names = data[\"network\"][\"metabolite_names\"]\n",
    "reaction_names = data[\"network\"][\"reaction_names\"]"
   ]
  },
  {
   "cell_type": "code",
   "execution_count": 3,
   "metadata": {
    "tags": []
   },
   "outputs": [
    {
     "name": "stdout",
     "output_type": "stream",
     "text": [
      "kcat reverse comparison:\n",
      "from JSON:   [ 60.72815308   5.46872782 201.05180699]\n",
      "calculated:  [ 74.69898419   6.51162844 159.57668393]\n"
     ]
    }
   ],
   "source": [
    "mb = ModelBalancing(**args)\n",
    "mb.initialize_with_gmeans()\n",
    "print(\"kcat reverse comparison:\")\n",
    "print(\"from JSON:  \", args[\"kcatr_gmean\"].m_as(\"1/s\"))\n",
    "print(\"calculated: \" , np.exp(mb.ln_kcatr))"
   ]
  },
  {
   "cell_type": "code",
   "execution_count": 4,
   "metadata": {},
   "outputs": [
    {
     "name": "stdout",
     "output_type": "stream",
     "text": [
      "enzyme concentration comparison:\n",
      "from JSON:  \n",
      " [[1.74991311e-06 1.58257659e-06 5.01929073e-07 4.41456915e-07]\n",
      " [1.44387710e-06 3.31349350e-06 1.36297300e-06 1.43373983e-06]\n",
      " [9.39168869e-07 3.45175677e-07 1.29820842e-06 1.23089965e-06]]\n",
      "calculated: \n",
      " [[1.45383183e-06 1.30487954e-06 4.00724615e-07 3.56621790e-07]\n",
      " [1.28013223e-06 2.44869536e-06 1.15826469e-06 1.15572556e-06]\n",
      " [1.15233468e-06 3.98557069e-07 2.27106772e-06 2.75024879e-06]]\n"
     ]
    }
   ],
   "source": [
    "print(\"enzyme concentration comparison:\")\n",
    "print(\"from JSON:  \\n\", args[\"conc_enz_gmean\"].m_as(\"M\"))\n",
    "print(\"calculated: \\n\" , np.exp(mb.ln_conc_enz))"
   ]
  },
  {
   "cell_type": "code",
   "execution_count": 5,
   "metadata": {},
   "outputs": [
    {
     "name": "stdout",
     "output_type": "stream",
     "text": [
      "Setting enzyme conc. and kcatr gmeans to calculated values...\n",
      "initial total squared Z-scores = 0.000\n",
      "CPU times: user 17.6 ms, sys: 742 µs, total: 18.4 ms\n",
      "Wall time: 15.6 ms\n"
     ]
    }
   ],
   "source": [
    "%%time\n",
    "\n",
    "mb = ModelBalancing(**args)\n",
    "\n",
    "print(\"Setting enzyme conc. and kcatr gmeans to calculated values...\")\n",
    "# check that the driving forces at the mode are all positive\n",
    "assert mb.is_gmean_feasible()\n",
    "mb.initialize_with_gmeans()\n",
    "print(f\"initial total squared Z-scores = {mb.objective_value:.3f}\")"
   ]
  },
  {
   "cell_type": "code",
   "execution_count": 6,
   "metadata": {},
   "outputs": [
    {
     "name": "stdout",
     "output_type": "stream",
     "text": [
      "optimized total squared Z-scores = 0.000\n",
      "------------------------- All Z-scores -------------------------\n",
      "Km = 0.00\n",
      "Ka = 0.00\n",
      "Ki = 0.00\n",
      "Keq = 0.00\n",
      "kcatf = 0.00\n",
      "conc_met = 0.00\n",
      "kcatr = 0.00\n",
      "conc_enz = 0.00\n"
     ]
    }
   ],
   "source": [
    "mb.solve()\n",
    "print(f\"optimized total squared Z-scores = {mb.objective_value:.3f}\")\n",
    "print(\"-\"*25 + \" All Z-scores \" + \"-\"*25)\n",
    "mb.print_z_scores()"
   ]
  },
  {
   "cell_type": "code",
   "execution_count": 7,
   "metadata": {},
   "outputs": [
    {
     "name": "stdout",
     "output_type": "stream",
     "text": [
      "initial total squared Z-scores = 45.858\n",
      "CPU times: user 3.86 ms, sys: 5.84 ms, total: 9.7 ms\n",
      "Wall time: 7.52 ms\n"
     ]
    }
   ],
   "source": [
    "%%time\n",
    "\n",
    "mb = ModelBalancing(**args)\n",
    "assert mb.is_gmean_feasible()\n",
    "print(f\"initial total squared Z-scores = {mb.objective_value:.3f}\")"
   ]
  },
  {
   "cell_type": "code",
   "execution_count": 8,
   "metadata": {},
   "outputs": [
    {
     "name": "stdout",
     "output_type": "stream",
     "text": [
      "α = 0.0 - optimized total squared Z-scores = 1.563\n",
      "α = 0.5 - optimized total squared Z-scores = 2.337\n",
      "α = 1.0 - optimized total squared Z-scores = 2.540\n",
      "CPU times: user 7.07 s, sys: 47.4 ms, total: 7.12 s\n",
      "Wall time: 7.06 s\n"
     ]
    }
   ],
   "source": [
    "%%time\n",
    "\n",
    "mb = ModelBalancing(**args)\n",
    "assert mb.is_gmean_feasible()\n",
    "for a in [0.0, 0.5, 1.0]:\n",
    "    mb.alpha = a\n",
    "    mb.solve()\n",
    "    print(f\"α = {a:.1f} - optimized total squared Z-scores = {mb.objective_value:.3f}\")"
   ]
  },
  {
   "cell_type": "code",
   "execution_count": 9,
   "metadata": {},
   "outputs": [
    {
     "data": {
      "text/plain": [
       "True"
      ]
     },
     "execution_count": 9,
     "metadata": {},
     "output_type": "execute_result"
    }
   ],
   "source": [
    "condition_names = [\"S1\", \"S2\", \"S3\", \"S4\"]\n",
    "\n",
    "\n",
    "sbtabdoc = SBtab.SBtabDocument(name=\"balanced_states\")\n",
    "\n",
    "flux_df = pd.DataFrame(\n",
    "    mb.fluxes.m_as(\"mM/s\"),\n",
    "    columns=condition_names\n",
    ")\n",
    "flux_df.insert(0, \"!QuantityType\", \"rate of reaction\")\n",
    "flux_df.insert(1, \"!Reaction\", reaction_names)\n",
    "flux_sbtab = SBtab.SBtabTable.from_data_frame(\n",
    "    flux_df.astype(str),\n",
    "    table_id=\"MetabolicFlux\",\n",
    "    table_name=\"MetabolicFlux\",\n",
    "    table_type=\"QuantityMatrix\",\n",
    "    unit=\"mM/s\",\n",
    ")\n",
    "sbtabdoc.add_sbtab(flux_sbtab)\n",
    "\n",
    "c = Q_(np.exp(mb.ln_conc_met), \"M\")\n",
    "conc_met_df = pd.DataFrame(\n",
    "    c.m_as(\"mM\"),\n",
    "    columns=condition_names\n",
    ")\n",
    "conc_met_df.insert(0, \"!QuantityType\", \"concentration\")\n",
    "conc_met_df.insert(1, \"!Compound\", [\"X1\", \"S2\", \"X3\", \"X4\"])\n",
    "conc_met_sbtab = SBtab.SBtabTable.from_data_frame(\n",
    "    conc_met_df.astype(str),\n",
    "    table_id=\"MetaboliteConcentrations\",\n",
    "    table_name=\"Metabolite concentrations\",\n",
    "    table_type=\"QuantityMatrix\",\n",
    "    unit=\"mM\",\n",
    ")\n",
    "sbtabdoc.add_sbtab(conc_met_sbtab)\n",
    "\n",
    "e = Q_(np.exp(mb.ln_conc_enz), \"M\")\n",
    "conc_enz_df = pd.DataFrame(\n",
    "    e.m_as(\"mM\"),\n",
    "    columns=condition_names\n",
    ")\n",
    "conc_enz_df.insert(0, \"!QuantityType\", \"concentration of enzyme\")\n",
    "conc_enz_df.insert(1, \"!Reaction\", reaction_names)\n",
    "conc_enz_sbtab = SBtab.SBtabTable.from_data_frame(\n",
    "    conc_enz_df.astype(str),\n",
    "    table_id=\"EnzymeConcentrations\",\n",
    "    table_name=\"Enzyme concentrations\",\n",
    "    table_type=\"QuantityMatrix\",\n",
    "    unit=\"mM\",\n",
    ")\n",
    "sbtabdoc.add_sbtab(conc_enz_sbtab)\n",
    "\n",
    "gibbs_energy_df = pd.DataFrame(\n",
    "    -mb.driving_forces,\n",
    "    columns=condition_names\n",
    ")\n",
    "gibbs_energy_df.insert(0, \"!QuantityType\", \"Gibbs energy of reaction\")\n",
    "gibbs_energy_df.insert(1, \"!Reaction\", reaction_names)\n",
    "gibbs_energy_sbtab = SBtab.SBtabTable.from_data_frame(\n",
    "    gibbs_energy_df.astype(str),\n",
    "    table_id=\"ReactionGibbsFreeEnergy\",\n",
    "    table_name=\"Gibbs free energies of reaction\",\n",
    "    table_type=\"QuantityMatrix\",\n",
    "    unit=\"kJ/mol\",\n",
    ")\n",
    "sbtabdoc.add_sbtab(gibbs_energy_sbtab)\n",
    "\n",
    "kcatf = Q_(np.exp(mb.ln_kcatf), \"1/s\")\n",
    "kcatr = Q_(np.exp(mb.ln_kcatr), \"1/s\")\n",
    "kcat_df = pd.DataFrame(\n",
    "    np.vstack([kcatf.m_as(\"1/s\"), kcatr.m_as(\"1/s\")]).T,\n",
    "    columns=[\"kcatf\", \"kcatr\"]\n",
    ")\n",
    "kcat_df.insert(0, \"!QuantityType\", \"catalytic rate constant\")\n",
    "kcat_df.insert(1, \"!Reaction\", reaction_names)\n",
    "kcat_sbtab = SBtab.SBtabTable.from_data_frame(\n",
    "    kcat_df.astype(str),\n",
    "    table_id=\"CatalyticRateConstant\",\n",
    "    table_name=\"Catalytic rate constant\",\n",
    "    table_type=\"QuantityMatrix\",\n",
    "    unit=\"1/s\",\n",
    ")\n",
    "sbtabdoc.add_sbtab(kcat_sbtab)\n",
    "\n",
    "Km = Q_(np.exp(mb._create_dense_matrix(mb.S, mb.ln_Km)), \"M\")\n",
    "Km_df = pd.DataFrame(\n",
    "    Km.m_as(\"mM\").T,\n",
    "    columns=metabolite_names\n",
    ")\n",
    "Km_df.insert(0, \"!QuantityType\", \"Michaelis constant\")\n",
    "Km_df.insert(1, \"!Reaction\", reaction_names)\n",
    "Km_sbtab = SBtab.SBtabTable.from_data_frame(\n",
    "    Km_df.astype(str),\n",
    "    table_id=\"MichaelisConstant\",\n",
    "    table_name=\"Michaelis-Menten constant\",\n",
    "    table_type=\"QuantityMatrix\",\n",
    "    unit=\"mM\",\n",
    ")\n",
    "sbtabdoc.add_sbtab(Km_sbtab)\n",
    "\n",
    "Ka = Q_(np.exp(mb._create_dense_matrix(mb.S, mb.ln_Ka)), \"M\")\n",
    "Ka_df = pd.DataFrame(\n",
    "    Ka.m_as(\"mM\").T,\n",
    "    columns=metabolite_names\n",
    ")\n",
    "Ka_df.insert(0, \"!QuantityType\", \"activation constant\")\n",
    "Ka_df.insert(1, \"!Reaction\", reaction_names)\n",
    "Ka_sbtab = SBtab.SBtabTable.from_data_frame(\n",
    "    Ka_df.astype(str),\n",
    "    table_id=\"ActivationConstant\",\n",
    "    table_name=\"Activation constant\",\n",
    "    table_type=\"QuantityMatrix\",\n",
    "    unit=\"mM\",\n",
    ")\n",
    "sbtabdoc.add_sbtab(Ka_sbtab)\n",
    "\n",
    "Ki = Q_(np.exp(mb._create_dense_matrix(mb.S, mb.ln_Ki)), \"M\")\n",
    "Ki_df = pd.DataFrame(\n",
    "    Ki.m_as(\"mM\").T,\n",
    "    columns=metabolite_names\n",
    ")\n",
    "Ki_df.insert(0, \"!QuantityType\", \"inhibition constant\")\n",
    "Ki_df.insert(1, \"!Reaction\", reaction_names)\n",
    "Ki_sbtab = SBtab.SBtabTable.from_data_frame(\n",
    "    Ki_df.astype(str),\n",
    "    table_id=\"InhibitionConstant\",\n",
    "    table_name=\"Inhibition constant\",\n",
    "    table_type=\"QuantityMatrix\",\n",
    "    unit=\"mM\",\n",
    ")\n",
    "sbtabdoc.add_sbtab(Ki_sbtab)"
   ]
  },
  {
   "cell_type": "code",
   "execution_count": 10,
   "metadata": {},
   "outputs": [
    {
     "name": "stdout",
     "output_type": "stream",
     "text": [
      "!!!SBtab DocumentName='balanced_states' SBtabVersion='1.0' Date='2021-4-7'\n",
      "!!SBtab TableID='MetabolicFlux' TableType='QuantityMatrix' TableName='MetabolicFlux' SBtabVersion='1.0' Unit='mM/s'\n",
      "!QuantityType\t!Reaction\tS1\tS2\tS3\tS4\n",
      "rate of reaction\tE1\t0.021387373764911267\t0.01460085302465973\t0.011737199044558173\t0.009199216810779395\n",
      "rate of reaction\tE2\t0.021387372521010195\t0.014588598605683439\t0.011737199044527745\t0.009199199058691014\n",
      "rate of reaction\tE3\t0.02138737477565732\t0.014313621496418424\t0.011737199044230595\t0.009199219113649869\n",
      "\n",
      "!!SBtab TableID='MetaboliteConcentrations' TableType='QuantityMatrix' TableName='Metabolite concentrations' SBtabVersion='1.0' Unit='mM'\n",
      "!QuantityType\t!Compound\tS1\tS2\tS3\tS4\n",
      "concentration\tX1\t6.362151800782024\t10.492157428413275\t13.647672584693225\t10.502239738863869\n",
      "concentration\tS2\t0.1621687031776186\t0.3296981827117329\t0.07354181249203266\t0.10086092690588559\n",
      "concentration\tX3\t1.1391192175408076\t4.943808236302957\t0.7346033370494239\t1.2268893676510402\n",
      "concentration\tX4\t0.7793414913471677\t0.7059326219839677\t0.8719389754276066\t1.553659024594783\n",
      "\n",
      "!!SBtab TableID='EnzymeConcentrations' TableType='QuantityMatrix' TableName='Enzyme concentrations' SBtabVersion='1.0' Unit='mM'\n",
      "!QuantityType\t!Reaction\tS1\tS2\tS3\tS4\n",
      "concentration of enzyme\tE1\t0.001746417149742277\t0.0015599254366176758\t0.000465684835540469\t0.00041694267666310376\n",
      "concentration of enzyme\tE2\t0.0014565129919837064\t0.003243567047204231\t0.0013638533888750766\t0.0014223405115860958\n",
      "concentration of enzyme\tE3\t0.0009649510505311751\t0.00035347643116482284\t0.0013145415670912236\t0.0012417057504679344\n",
      "\n",
      "!!SBtab TableID='ReactionGibbsFreeEnergy' TableType='QuantityMatrix' TableName='Gibbs free energies of reaction' SBtabVersion='1.0' Unit='kJ/mol'\n",
      "!QuantityType\t!Reaction\tS1\tS2\tS3\tS4\n",
      "Gibbs energy of reaction\tE1\t-0.736257537625197\t-0.5269784834420648\t-2.290242933618396\t-1.7123739913018872\n",
      "Gibbs energy of reaction\tE2\t-1.360721721102092\t-0.6023816035499396\t-1.0086186225234113\t-0.8116005075609434\n",
      "Gibbs energy of reaction\tE3\t-0.84331631846159\t-2.4101264277093604\t-0.29236625003364203\t-0.2276241999081473\n",
      "\n",
      "!!SBtab TableID='CatalyticRateConstant' TableType='QuantityMatrix' TableName='Catalytic rate constant' SBtabVersion='1.0' Unit='1/s'\n",
      "!QuantityType\t!Reaction\tkcatf\tkcatr\n",
      "catalytic rate constant\tE1\t30.00374679799861\t61.96517822414993\n",
      "catalytic rate constant\tE2\t548.4209551074204\t5.635093315180619\n",
      "catalytic rate constant\tE3\t46.35105078990361\t191.78323202839178\n",
      "\n",
      "!!SBtab TableID='MichaelisConstant' TableType='QuantityMatrix' TableName='Michaelis-Menten constant' SBtabVersion='1.0' Unit='mM'\n",
      "!QuantityType\t!Reaction\tX1\tS2\tX3\tX4\n",
      "Michaelis constant\tE1\t0.2850338727949513\t0.03133172366155312\t1000.0000000000001\t1000.0000000000001\n",
      "Michaelis constant\tE2\t1000.0000000000001\t0.2932905563546458\t0.08253558248372264\t1000.0000000000001\n",
      "Michaelis constant\tE3\t1000.0000000000001\t1000.0000000000001\t0.09960006030280417\t0.6552648827498277\n",
      "\n",
      "!!SBtab TableID='ActivationConstant' TableType='QuantityMatrix' TableName='Activation constant' SBtabVersion='1.0' Unit='mM'\n",
      "!QuantityType\t!Reaction\tX1\tS2\tX3\tX4\n",
      "activation constant\tE1\t1000.0000000000001\t1000.0000000000001\t1000.0000000000001\t1000.0000000000001\n",
      "activation constant\tE2\t1000.0000000000001\t1000.0000000000001\t1000.0000000000001\t1000.0000000000001\n",
      "activation constant\tE3\t1000.0000000000001\t1000.0000000000001\t1000.0000000000001\t1000.0000000000001\n",
      "\n",
      "!!SBtab TableID='InhibitionConstant' TableType='QuantityMatrix' TableName='Inhibition constant' SBtabVersion='1.0' Unit='mM'\n",
      "!QuantityType\t!Reaction\tX1\tS2\tX3\tX4\n",
      "inhibition constant\tE1\t1000.0000000000001\t1000.0000000000001\t1000.0000000000001\t1000.0000000000001\n",
      "inhibition constant\tE2\t1000.0000000000001\t1000.0000000000001\t1000.0000000000001\t1000.0000000000001\n",
      "inhibition constant\tE3\t1000.0000000000001\t1000.0000000000001\t1000.0000000000001\t1000.0000000000001\n",
      "\n",
      "\n"
     ]
    }
   ],
   "source": [
    "print(sbtabdoc.to_str())\n",
    "sbtabdoc.write(\"balanced_states_noncvx.tsv\");"
   ]
  },
  {
   "cell_type": "code",
   "execution_count": null,
   "metadata": {},
   "outputs": [],
   "source": []
  }
 ],
 "metadata": {
  "kernelspec": {
   "display_name": "Python 3",
   "language": "python",
   "name": "python3"
  },
  "language_info": {
   "codemirror_mode": {
    "name": "ipython",
    "version": 3
   },
   "file_extension": ".py",
   "mimetype": "text/x-python",
   "name": "python",
   "nbconvert_exporter": "python",
   "pygments_lexer": "ipython3",
   "version": "3.9.2"
  }
 },
 "nbformat": 4,
 "nbformat_minor": 4
}
