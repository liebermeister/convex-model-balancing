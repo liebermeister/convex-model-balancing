{
 "cells": [
  {
   "cell_type": "markdown",
   "metadata": {},
   "source": [
    "## Solve Model balancing problem with kinetic parameters as variables"
   ]
  },
  {
   "cell_type": "code",
   "execution_count": 1,
   "metadata": {
    "execution": {
     "iopub.status.idle": "2020-08-28T17:30:02.771426Z",
     "shell.execute_reply": "2020-08-28T17:30:02.770830Z",
     "shell.execute_reply.started": "2020-08-28T17:30:01.926909Z"
    }
   },
   "outputs": [],
   "source": [
    "import numpy as np\n",
    "from equilibrator_api import Q_, R, default_T\n",
    "from model_balancing import _ln_kcatr, _ln_conc_enz, _driving_forces, solve\n",
    "import cvxpy as cp"
   ]
  },
  {
   "cell_type": "code",
   "execution_count": 2,
   "metadata": {
    "execution": {
     "iopub.execute_input": "2020-08-28T17:30:02.772558Z",
     "iopub.status.busy": "2020-08-28T17:30:02.772355Z",
     "iopub.status.idle": "2020-08-28T17:30:02.777636Z",
     "shell.execute_reply": "2020-08-28T17:30:02.777146Z",
     "shell.execute_reply.started": "2020-08-28T17:30:02.772536Z"
    }
   },
   "outputs": [],
   "source": [
    "use_regulation = False\n",
    "args = {}\n",
    "\n",
    "# choose solver\n",
    "\n",
    "if cp.MOSEK in cp.installed_solvers():\n",
    "    args[\"solver\"] = cp.MOSEK\n",
    "else:\n",
    "    #args[\"solver\"] = cp.SCS\n",
    "    args[\"solver\"] = cp.ECOS"
   ]
  },
  {
   "cell_type": "code",
   "execution_count": 3,
   "metadata": {
    "execution": {
     "iopub.execute_input": "2020-08-28T17:30:02.778856Z",
     "iopub.status.busy": "2020-08-28T17:30:02.778583Z",
     "iopub.status.idle": "2020-08-28T17:30:02.786433Z",
     "shell.execute_reply": "2020-08-28T17:30:02.785566Z",
     "shell.execute_reply.started": "2020-08-28T17:30:02.778833Z"
    }
   },
   "outputs": [],
   "source": [
    "# Network topology\n",
    "\n",
    "args[\"S\"] = np.matrix(\n",
    "    [\n",
    "        [-1, 0, 0],\n",
    "        [1, -1, -1],\n",
    "        [0, 1, 1]\n",
    "    ], dtype=float\n",
    ")\n",
    "\n",
    "if use_regulation:\n",
    "    args[\"A_act\"] = np.matrix(\n",
    "        [\n",
    "            [0, 1, 2],\n",
    "            [0, 0, 0],\n",
    "            [0, 0, 0]\n",
    "        ], dtype=float\n",
    "    )\n",
    "    args[\"A_inh\"] = np.matrix(\n",
    "        [\n",
    "            [0, 0, 0],\n",
    "            [0, 0, 0],\n",
    "            [2, 0, 0]\n",
    "        ], dtype=float\n",
    "    )\n",
    "else:\n",
    "    args[\"A_act\"] = np.matrix(\n",
    "        [\n",
    "            [0, 0, 0],\n",
    "            [0, 0, 0],\n",
    "            [0, 0, 0]\n",
    "        ], dtype=float\n",
    "    )\n",
    "    args[\"A_inh\"] = np.matrix(\n",
    "        [\n",
    "            [0, 0, 0],\n",
    "            [0, 0, 0],\n",
    "            [0, 0, 0]\n",
    "        ], dtype=float\n",
    "    )"
   ]
  },
  {
   "cell_type": "code",
   "execution_count": 4,
   "metadata": {
    "execution": {
     "iopub.execute_input": "2020-08-28T17:30:02.787873Z",
     "iopub.status.busy": "2020-08-28T17:30:02.787616Z",
     "iopub.status.idle": "2020-08-28T17:30:02.802596Z",
     "shell.execute_reply": "2020-08-28T17:30:02.802034Z",
     "shell.execute_reply.started": "2020-08-28T17:30:02.787855Z"
    }
   },
   "outputs": [],
   "source": [
    "# Priors for Kinetic and Thermodynamic parameters\n",
    "\n",
    "args[\"Keq_gmean\"] = Q_([57, 0.13, 3200], \"\")  # geometric mean (assuming a standard concentration of 1M)\n",
    "args[\"Keq_ln_cov\"] = np.array(\n",
    "    [\n",
    "        [1, 0, 0],\n",
    "        [0, 1, 0],\n",
    "        [0, 0, 1],\n",
    "    ]\n",
    ")  # log-scale covariance\n",
    "\n",
    "args[\"kcatf_gmean\"] = Q_([20.0, 8.0, 10.0], \"1/s\")  # geometric mean\n",
    "args[\"kcatf_ln_cov\"] = np.array(\n",
    "    [\n",
    "        [1, 0, 0],\n",
    "        [0, 1, 0],\n",
    "        [0, 0, 1],\n",
    "    ]\n",
    ") # log-scale covariance\n",
    "\n",
    "args[\"kcatr_gmean\"] = Q_([3.5e-3, 6.2e4, 3.1e-1], \"1/s\")  # geometric mean\n",
    "args[\"kcatr_ln_cov\"] = np.array(\n",
    "    [\n",
    "        [1, 0, 0],\n",
    "        [0, 1, 0],\n",
    "        [0, 0, 1],\n",
    "    ]\n",
    ") # log-scale covariance\n",
    "\n",
    "# the K parameters are only for existing connections in the S, A_act and A_inh matrices.\n",
    "# the order of values is \"metabolite-first\".\n",
    "args[\"Km_gmean\"] = Q_([1e-2, 1e-4, 1e-4, 1e-3, 1e-1, 1e-1], \"M\")\n",
    "args[\"Km_ln_cov\"] = np.array(\n",
    "    [\n",
    "        [1, 0, 0, 0, 0, 0],\n",
    "        [0, 1, 0, 0, 0, 0],\n",
    "        [0, 0, 1, 0, 0, 0],\n",
    "        [0, 0, 0, 1, 0, 0],\n",
    "        [0, 0, 0, 0, 1, 0],\n",
    "        [0, 0, 0, 0, 0, 1],\n",
    "    ]\n",
    ") # log-scale covariance\n",
    "\n",
    "args[\"Ka_gmean\"] = Q_([1, 1], \"M\")\n",
    "args[\"Ka_ln_cov\"] = np.array(\n",
    "    [\n",
    "        [1, 0],\n",
    "        [0, 1],\n",
    "    ]\n",
    ")\n",
    "\n",
    "args[\"Ki_gmean\"] = Q_([1], \"M\")\n",
    "args[\"Ki_ln_cov\"] = np.array(\n",
    "    [\n",
    "        [1],\n",
    "    ]\n",
    ")"
   ]
  },
  {
   "cell_type": "code",
   "execution_count": 5,
   "metadata": {
    "execution": {
     "iopub.execute_input": "2020-08-28T17:30:02.803787Z",
     "iopub.status.busy": "2020-08-28T17:30:02.803512Z",
     "iopub.status.idle": "2020-08-28T17:30:02.810861Z",
     "shell.execute_reply": "2020-08-28T17:30:02.810217Z",
     "shell.execute_reply.started": "2020-08-28T17:30:02.803766Z"
    }
   },
   "outputs": [],
   "source": [
    "# condition dependent data (columns represent conditions)\n",
    "\n",
    "args[\"fluxes\"] = Q_(\n",
    "    [\n",
    "        [2.0, 1.5, 2.5, 2.5],\n",
    "        [1.0, 1.0, 2.0, 0.5],\n",
    "        [1.0, 0.5, 0.5, 2.0],\n",
    "    ], \"mM/s\"\n",
    ")\n",
    "\n",
    "args[\"conc_enz_gmean\"] = Q_(\n",
    "    [\n",
    "        [1e-3, 1e-3, 1e-3, 3e-3],\n",
    "        [2e-3, 3e-3, 1e-3, 2e-3],\n",
    "        [1e-3, 2e-3, 2e-3, 1e-3],\n",
    "    ], \"M\")  # geometric mean\n",
    "\n",
    "args[\"conc_enz_gstd\"] = np.array(\n",
    "    [\n",
    "        [1.1, 1.1, 1.1, 1.1],\n",
    "        [1.1, 1.1, 1.1, 1.1],\n",
    "        [1.1, 1.1, 1.1, 1.1],\n",
    "    ]\n",
    ")  # geometric standard deviation\n",
    "\n",
    "args[\"conc_met_gmean\"] = Q_(\n",
    "    [\n",
    "        [2e-3, 1e-2, 2e-3, 1e-3],\n",
    "        [2e-4, 1e-4, 3e-4, 1e-4],\n",
    "        [1e-5, 1e-5, 1e-5, 1e-5],\n",
    "    ], \"M\"\n",
    ")  # geometric mean\n",
    "\n",
    "args[\"conc_met_gstd\"] = np.array(\n",
    "    [\n",
    "        [1.1, 1.1, 1.1, 1.1],\n",
    "        [1.1, 1.1, 1.1, 1.1],\n",
    "        [1.1, 1.1, 1.1, 1.1],\n",
    "    ]\n",
    ")  # geometric standard deviation"
   ]
  },
  {
   "cell_type": "code",
   "execution_count": 6,
   "metadata": {
    "execution": {
     "iopub.execute_input": "2020-08-28T17:30:02.812052Z",
     "iopub.status.busy": "2020-08-28T17:30:02.811858Z",
     "iopub.status.idle": "2020-08-28T17:30:02.818642Z",
     "shell.execute_reply": "2020-08-28T17:30:02.818128Z",
     "shell.execute_reply.started": "2020-08-28T17:30:02.812034Z"
    }
   },
   "outputs": [],
   "source": [
    "fluxes, S, A_act, A_inh = args[\"fluxes\"], args[\"S\"], args[\"A_act\"], args[\"A_inh\"]\n",
    "ln_Keq = np.log(args[\"Keq_gmean\"].m_as(\"\"))\n",
    "ln_kcatf = np.log(args[\"kcatf_gmean\"].m_as(\"1/s\"))\n",
    "ln_Km = np.log(args[\"Km_gmean\"].m_as(\"M\"))\n",
    "ln_Ka = np.log(args[\"Ka_gmean\"].m_as(\"M\"))\n",
    "ln_Ki = np.log(args[\"Ki_gmean\"].m_as(\"M\"))\n",
    "ln_conc_met = np.log(args[\"conc_met_gmean\"].m_as(\"M\"))\n",
    "\n",
    "args[\"kcatr_gmean\"] = np.exp(_ln_kcatr(ln_kcatf, ln_Km, ln_Keq, S).value) * Q_(\"1/s\")"
   ]
  },
  {
   "cell_type": "code",
   "execution_count": 7,
   "metadata": {
    "execution": {
     "iopub.execute_input": "2020-08-28T17:30:02.819498Z",
     "iopub.status.busy": "2020-08-28T17:30:02.819320Z",
     "iopub.status.idle": "2020-08-28T17:30:02.823943Z",
     "shell.execute_reply": "2020-08-28T17:30:02.823435Z",
     "shell.execute_reply.started": "2020-08-28T17:30:02.819479Z"
    }
   },
   "outputs": [
    {
     "name": "stdout",
     "output_type": "stream",
     "text": [
      "Feasible\n"
     ]
    }
   ],
   "source": [
    "# check that the driving forces at the mode are all positive\n",
    "if (_driving_forces(ln_Keq, ln_conc_met, S).value >= 1e-6).all():\n",
    "    print(\"Feasible\")\n",
    "else:\n",
    "    raise Exception(\"Infeasible\")"
   ]
  },
  {
   "cell_type": "code",
   "execution_count": 8,
   "metadata": {
    "execution": {
     "iopub.execute_input": "2020-08-28T17:30:02.825195Z",
     "iopub.status.busy": "2020-08-28T17:30:02.824999Z",
     "iopub.status.idle": "2020-08-28T17:30:04.427372Z",
     "shell.execute_reply": "2020-08-28T17:30:04.426846Z",
     "shell.execute_reply.started": "2020-08-28T17:30:02.825176Z"
    }
   },
   "outputs": [
    {
     "name": "stdout",
     "output_type": "stream",
     "text": [
      "************ rate law = CM **************\n",
      "\n",
      "initial Z-score = 0.00e+00\n",
      "optimal Z-score = 4.69e-09\n",
      "\n",
      "Metabolite concentrations (M) =\n",
      " [[2.00000018e-03 1.00000007e-02 2.00000018e-03 1.00000009e-03]\n",
      " [2.00000018e-04 1.00000015e-04 3.00000019e-04 1.00000014e-04]\n",
      " [9.99999951e-06 9.99999908e-06 9.99999966e-06 9.99999908e-06]]\n",
      "\n",
      "Enzyme concentrations (M) =\n",
      " [[0.00160275 0.00022503 0.00263183 0.00262951]\n",
      " [0.00030468 0.00108325 0.00044827 0.00054162]\n",
      " [0.00060004 0.00055004 0.00021668 0.00220018]]\n",
      "\n",
      "Driving forces (RT) =\n",
      " [[ 6.34565871  8.64824373  5.94019363  6.34565866]\n",
      " [ 0.95554139  0.26239431  1.36100645  0.2623943 ]\n",
      " [11.06665445 10.37350737 11.47211952 10.37350737]]\n",
      "\n",
      "η(thr) =\n",
      " [[1.   1.   1.   1.  ]\n",
      " [0.62 0.23 0.74 0.23]\n",
      " [1.   1.   1.   1.  ]]\n",
      "\n",
      "η(kin) =\n",
      " [[0.06 0.33 0.05 0.05]\n",
      " [0.67 0.5  0.75 0.5 ]\n",
      " [0.17 0.09 0.23 0.09]]\n",
      "\n",
      "η(reg) =\n",
      " [[1. 1. 1. 1.]\n",
      " [1. 1. 1. 1.]\n",
      " [1. 1. 1. 1.]]\n",
      "\n",
      "\n",
      "\n",
      "\n",
      "All Z-scores\n",
      "--------------------------------------------------\n",
      "enzymes =  0.0\n",
      "metabolites =  0.0\n",
      "Keq =  0.0\n",
      "kcat forward =  0.0\n",
      "kcat reverse =  0.0\n",
      "Km =  0.0\n",
      "Ka =  0.0\n",
      "Ki =  0.0\n"
     ]
    }
   ],
   "source": [
    "for rate_law in [\"CM\"]:#[\"S\", \"1S\", \"SP\", \"1SP\", \"CM\"]:\n",
    "    print(f\"************ rate law = {rate_law} **************\\n\")\n",
    "    args[\"conc_enz_gmean\"] = np.exp(\n",
    "        _ln_conc_enz(\n",
    "            ln_Keq, ln_kcatf, ln_Km, ln_Ka, ln_Ki, ln_conc_met,\n",
    "            fluxes, S, A_act, A_inh , rate_law=rate_law).value\n",
    "    ) * Q_(\"M\")\n",
    "    args[\"rate_law\"] = rate_law\n",
    "\n",
    "    solve(\n",
    "        **args,\n",
    "    )"
   ]
  }
 ],
 "metadata": {
  "kernelspec": {
   "display_name": "Python 3",
   "language": "python",
   "name": "python3"
  },
  "language_info": {
   "codemirror_mode": {
    "name": "ipython",
    "version": 3
   },
   "file_extension": ".py",
   "mimetype": "text/x-python",
   "name": "python",
   "nbconvert_exporter": "python",
   "pygments_lexer": "ipython3",
   "version": "3.8.2"
  }
 },
 "nbformat": 4,
 "nbformat_minor": 4
}
