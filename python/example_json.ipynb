{
 "cells": [
  {
   "cell_type": "code",
   "execution_count": 1,
   "metadata": {},
   "outputs": [],
   "source": [
    "import json\n",
    "import numpy as np\n",
    "from equilibrator_api import Q_, R, default_T\n",
    "import model_balancing\n",
    "np.set_printoptions(precision=1)"
   ]
  },
  {
   "cell_type": "code",
   "execution_count": 2,
   "metadata": {},
   "outputs": [],
   "source": [
    "with open(\"../cvxpy/examples/simple-example/no_noise_with_noisefree_kinetic_data/small_model_network_and_data.json\", \"rt\") as fp:\n",
    "    data = json.load(fp)\n",
    "\n",
    "args = {}\n",
    "args[\"S\"] = np.array(data[\"network\"][\"stoichiometric_matrix\"])\n",
    "args[\"A_act\"] = np.array(data[\"network\"][\"activation_matrix\"])\n",
    "args[\"A_inh\"] = np.array(data[\"network\"][\"inhibition_matrix\"])\n",
    "args[\"fluxes\"] = Q_(data[\"reaction_fluxes\"][\"data\"][\"mean\"], data[\"reaction_fluxes\"][\"unit\"])\n",
    "\n",
    "args[\"Keq_gmean\"] = Q_(data[\"kinetic_constants\"][\"Keq\"][\"combined\"][\"geom_mean\"], \"\")\n",
    "args[\"Keq_gmean\"][2] *= 1000  # fixing standard concentration convension (from 1 mM to 1 M)\n",
    "args[\"Keq_ln_cov\"] = np.array(data[\"kinetic_constants\"][\"Keq\"][\"combined\"][\"cov_ln\"])\n",
    "\n",
    "args[\"kcatf_gmean\"] = Q_(data[\"kinetic_constants\"][\"Kcatf\"][\"combined\"][\"geom_mean\"], data[\"kinetic_constants\"][\"Kcatf\"][\"unit\"])\n",
    "args[\"kcatf_ln_cov\"] = np.array(data[\"kinetic_constants\"][\"Kcatf\"][\"combined\"][\"cov_ln\"])\n",
    "\n",
    "args[\"kcatr_gmean\"] = Q_(data[\"kinetic_constants\"][\"Kcatr\"][\"combined\"][\"geom_mean\"], data[\"kinetic_constants\"][\"Kcatr\"][\"unit\"])\n",
    "args[\"kcatr_ln_cov\"] = np.array(data[\"kinetic_constants\"][\"Kcatr\"][\"combined\"][\"cov_ln\"])\n",
    "\n",
    "args[\"Km_gmean\"] = Q_(data[\"kinetic_constants\"][\"KM\"][\"combined\"][\"geom_mean\"], \"mM\") #data[\"kinetic_constants\"][\"KM\"][\"unit\"])\n",
    "args[\"Km_ln_cov\"] = np.array(data[\"kinetic_constants\"][\"KM\"][\"combined\"][\"cov_ln\"])\n",
    "\n",
    "args[\"Ka_gmean\"] = Q_(data[\"kinetic_constants\"][\"KA\"][\"combined\"][\"geom_mean\"], \"mM\") #data[\"kinetic_constants\"][\"KA\"][\"unit\"])\n",
    "args[\"Ka_ln_cov\"] = np.array(data[\"kinetic_constants\"][\"KA\"][\"combined\"][\"cov_ln\"])\n",
    "\n",
    "args[\"Ki_gmean\"] = Q_(data[\"kinetic_constants\"][\"KI\"][\"combined\"][\"geom_mean\"], \"mM\") #data[\"kinetic_constants\"][\"KI\"][\"unit\"])\n",
    "args[\"Ki_ln_cov\"] = np.array(data[\"kinetic_constants\"][\"KI\"][\"combined\"][\"cov_ln\"])\n",
    "\n",
    "args[\"conc_met_gmean\"] = Q_(data[\"metabolite_concentrations\"][\"combined\"][\"geom_mean\"], data[\"metabolite_concentrations\"][\"unit\"])\n",
    "args[\"conc_met_gstd\"] = np.array(data[\"metabolite_concentrations\"][\"combined\"][\"geom_std\"])\n",
    "\n",
    "args[\"conc_enz_gmean\"] = Q_(data[\"enzyme_concentrations\"][\"combined\"][\"geom_mean\"], data[\"metabolite_concentrations\"][\"unit\"])\n",
    "args[\"conc_enz_gstd\"] = np.array(data[\"enzyme_concentrations\"][\"combined\"][\"geom_std\"])\n",
    "\n",
    "args[\"rate_law\"] = \"CM\""
   ]
  },
  {
   "cell_type": "code",
   "execution_count": 3,
   "metadata": {},
   "outputs": [],
   "source": [
    "fluxes, S, A_act, A_inh = args[\"fluxes\"], args[\"S\"], args[\"A_act\"], args[\"A_inh\"]\n",
    "ln_Keq = np.log(args[\"Keq_gmean\"])\n",
    "ln_kcatf = np.log(args[\"kcatf_gmean\"].m_as(\"1/s\"))\n",
    "ln_Km = np.log(args[\"Km_gmean\"].m_as(\"M\"))\n",
    "ln_Ka = np.log(args[\"Ka_gmean\"].m_as(\"M\"))\n",
    "ln_Ki = np.log(args[\"Ki_gmean\"].m_as(\"M\"))\n",
    "ln_conc_met = np.log(args[\"conc_met_gmean\"].m_as(\"M\"))"
   ]
  },
  {
   "cell_type": "code",
   "execution_count": 4,
   "metadata": {},
   "outputs": [
    {
     "data": {
      "text/plain": [
       "array([[-1,  0,  0,  0,  0],\n",
       "       [ 1,  0, -1,  0,  0],\n",
       "       [ 0, -1,  0,  0,  0],\n",
       "       [ 0,  1, -1,  0,  0],\n",
       "       [ 0,  0,  1,  1, -1],\n",
       "       [ 0,  0,  0, -1,  0],\n",
       "       [ 0,  0,  0,  0,  1]])"
      ]
     },
     "execution_count": 4,
     "metadata": {},
     "output_type": "execute_result"
    }
   ],
   "source": [
    "S"
   ]
  },
  {
   "cell_type": "code",
   "execution_count": 5,
   "metadata": {},
   "outputs": [
    {
     "data": {
      "text/plain": [
       "array([-11.8, -10.7,  -5.7,  -6.3, -11.8, -10. ,  -8.8,  -8.7, -10.7,\n",
       "        -8.6, -11. ])"
      ]
     },
     "execution_count": 5,
     "metadata": {},
     "output_type": "execute_result"
    }
   ],
   "source": [
    "ln_Km"
   ]
  },
  {
   "cell_type": "code",
   "execution_count": 6,
   "metadata": {},
   "outputs": [
    {
     "data": {
      "text/plain": [
       "(4.393640954132105,\n",
       " -2.624508567919342 <Unit('dimensionless')>,\n",
       " -11.767467780603766,\n",
       " -10.654036496082208)"
      ]
     },
     "execution_count": 6,
     "metadata": {},
     "output_type": "execute_result"
    }
   ],
   "source": [
    "ln_kcatf[0], ln_Keq[0], ln_Km[0], ln_Km[1]"
   ]
  },
  {
   "cell_type": "code",
   "execution_count": 7,
   "metadata": {},
   "outputs": [
    {
     "name": "stdout",
     "output_type": "stream",
     "text": [
      "3400.1703305601663 dimensionless\n"
     ]
    }
   ],
   "source": [
    "# check Haldane for reaction #0\n",
    "ln_kcatr0 = ln_kcatf[0] - ln_Km[0] + ln_Km[1] - ln_Keq[0]\n",
    "print(np.exp(ln_kcatr0))"
   ]
  },
  {
   "cell_type": "code",
   "execution_count": 8,
   "metadata": {},
   "outputs": [
    {
     "name": "stdout",
     "output_type": "stream",
     "text": [
      "from JSON:   [ 814.9 1149.9  199.8   41.8 1722.8]\n",
      "calculated:  [3.4e+03 3.5e-02 2.7e+02 6.8e+01 2.4e+02]\n"
     ]
    },
    {
     "name": "stderr",
     "output_type": "stream",
     "text": [
      "/home/eladn/.local/lib/python3.8/site-packages/numpy/core/_asarray.py:83: UnitStrippedWarning: The unit of the quantity is stripped when downcasting to ndarray.\n",
      "  return array(a, dtype, copy=False, order=order)\n"
     ]
    }
   ],
   "source": [
    "print(\"from JSON:  \", args[\"kcatr_gmean\"].m_as(\"1/s\"))\n",
    "print(\"calculated: \", np.exp(model_balancing._ln_kcatr(ln_kcatf, ln_Km, ln_Keq, S).value))"
   ]
  },
  {
   "cell_type": "code",
   "execution_count": 9,
   "metadata": {},
   "outputs": [
    {
     "name": "stdout",
     "output_type": "stream",
     "text": [
      "\n",
      "Reaction #0:\n",
      "from JSON:   [4.6e-07 3.0e-06 1.2e-06 5.8e-07 9.2e-07]\n",
      "calculated:  [3.9e-07 4.8e-04 1.1e-06 4.3e-07 3.8e-07]\n",
      "\n",
      "Reaction #1:\n",
      "from JSON:   [1.1e-06 1.4e-06 7.0e-07 5.9e-07 7.2e-07]\n",
      "calculated:  [4.4e-07 3.3e-04 9.1e-07 7.6e-07 5.5e-07]\n",
      "\n",
      "Reaction #2:\n",
      "from JSON:   [1.1e-06 1.2e-06 5.0e-07 2.4e-07 4.1e-07]\n",
      "calculated:  [6.2e-07 3.3e-04 5.9e-07 3.2e-07 4.7e-07]\n",
      "\n",
      "Reaction #3:\n",
      "from JSON:   [6.9e-07 7.6e-07 6.8e-07 6.1e-07 4.0e-07]\n",
      "calculated:  [3.7e-07 3.1e-04 6.1e-07 5.8e-07 3.9e-07]\n"
     ]
    }
   ],
   "source": [
    "conc_enz_gmean = np.exp(\n",
    "        model_balancing._ln_conc_enz(\n",
    "            ln_Keq, ln_kcatf, ln_Km, ln_Ka, ln_Ki, ln_conc_met,\n",
    "            fluxes, S, A_act, A_inh , rate_law=args[\"rate_law\"]).value\n",
    "    ) * Q_(\"M\")\n",
    "for i in range(conc_enz_gmean.shape[1]):\n",
    "    print(f\"\\nReaction #{i}:\")\n",
    "    print(\"from JSON:  \", args[\"conc_enz_gmean\"][:, i].m_as(\"M\"))\n",
    "    print(\"calculated: \", conc_enz_gmean[:, i].m_as(\"M\"))"
   ]
  },
  {
   "cell_type": "code",
   "execution_count": 10,
   "metadata": {},
   "outputs": [
    {
     "name": "stdout",
     "output_type": "stream",
     "text": [
      "driving forces\n",
      "[[2.  1.  1.6 1. ]\n",
      " [0.6 1.3 1.5 0.9]\n",
      " [2.2 1.8 2.8 2.1]\n",
      " [2.8 2.2 2.6 3.5]\n",
      " [0.8 0.7 1.8 0.9]]\n",
      "\n",
      "capacity\n",
      "[[3.3e-07 2.8e-07 4.9e-07 2.3e-07]\n",
      " [1.3e-06 2.6e-06 3.5e-06 1.4e-06]\n",
      " [2.5e-08 2.3e-08 3.9e-08 2.8e-08]\n",
      " [3.1e-07 4.5e-07 2.1e-07 4.9e-07]\n",
      " [8.9e-08 1.2e-07 1.8e-07 1.0e-07]]\n",
      "\n",
      "η(thr)\n",
      "[[0.9 0.6 0.8 0.6]\n",
      " [0.5 0.7 0.8 0.6]\n",
      " [0.9 0.8 0.9 0.9]\n",
      " [0.9 0.9 0.9 1. ]\n",
      " [0.6 0.5 0.8 0.6]]\n",
      "\n",
      "η(kin)\n",
      "[[1.  1.  1.  1. ]\n",
      " [0.  0.  0.  0. ]\n",
      " [0.  0.  0.1 0.1]\n",
      " [0.8 0.7 0.7 0.9]\n",
      " [0.4 0.4 0.5 0.4]]\n"
     ]
    }
   ],
   "source": [
    "driving_forces = model_balancing._driving_forces(ln_Keq, ln_conc_met, S).value\n",
    "\n",
    "print(\"driving forces\")\n",
    "print(driving_forces.round(4))\n",
    "\n",
    "#assert all(driving_forces.flatten() > 0), \"some reactions have negative driving forces\"\n",
    "\n",
    "capacity = np.exp(model_balancing._ln_capacity(fluxes, ln_kcatf).value)\n",
    "eta_thermodynamic = np.exp(model_balancing._ln_eta_thermodynamic(driving_forces).value)\n",
    "eta_kinetic = np.exp(model_balancing._ln_eta_kinetic(ln_conc_met, ln_Km, S, rate_law=args[\"rate_law\"]).value)\n",
    "#ln_eta_allosteric = model_balancing._ln_eta_allosteric(ln_conc_met, ln_Ka, ln_Ki, A_act, A_inh)\n",
    "\n",
    "print(\"\\ncapacity\")\n",
    "print(capacity)\n",
    "\n",
    "print(\"\\nη(thr)\")\n",
    "print(eta_thermodynamic.round(4))\n",
    "\n",
    "print(\"\\nη(kin)\")\n",
    "print(eta_kinetic.round(4))"
   ]
  },
  {
   "cell_type": "code",
   "execution_count": 11,
   "metadata": {},
   "outputs": [
    {
     "name": "stdout",
     "output_type": "stream",
     "text": [
      "initial Z-score = 4.19e+03\n",
      "----------------------------------------------------------------------------\n",
      "\tSCS v2.1.2 - Splitting Conic Solver\n",
      "\t(c) Brendan O'Donoghue, Stanford University, 2012\n",
      "----------------------------------------------------------------------------\n",
      "Lin-sys: sparse-direct, nnz in A = 54466\n",
      "eps = 1.00e-04, alpha = 1.50, max_iters = 5000, normalize = 1, scale = 1.00\n",
      "acceleration_lookback = 10, rho_x = 1.00e-03\n",
      "Variables n = 20997, constraints m = 50486\n",
      "Cones:\tlinear vars: 6820\n",
      "\tsoc vars: 3586, soc blks: 1188\n",
      "\texp vars: 40080, dual exp vars: 0\n",
      "Setup time: 3.63e-02s\n",
      "----------------------------------------------------------------------------\n",
      " Iter | pri res | dua res | rel gap | pri obj | dua obj | kap/tau | time (s)\n",
      "----------------------------------------------------------------------------\n",
      "     0| 1.83e+00  3.37e+00  1.00e+00 -2.18e+04  7.46e+03  6.15e-12  1.75e-01 \n",
      "   100| 2.22e-03  5.80e-02  1.10e-01  9.41e+01  1.17e+02  1.56e-13  6.69e+00 \n",
      "   200| 1.70e-03  6.19e-02  2.43e-03  1.25e+02  1.26e+02  2.78e-12  1.06e+01 \n",
      "   300| 1.21e-03  2.44e-02  1.70e-02  1.36e+02  1.40e+02  1.33e-12  1.54e+01 \n",
      "   400| 8.53e-04  2.96e-02  3.32e-02  1.43e+02  1.53e+02  6.93e-13  2.06e+01 \n",
      "   500| 6.33e-04  3.05e-02  1.98e-02  1.45e+02  1.51e+02  2.06e-12  2.53e+01 \n",
      "   600| 5.45e-04  2.42e-02  2.88e-02  1.48e+02  1.56e+02  6.26e-14  2.94e+01 \n",
      "   700| 3.55e-04  7.95e-03  2.17e-02  1.46e+02  1.53e+02  7.63e-13  3.30e+01 \n",
      "   800| 3.53e-04  8.67e-03  7.66e-03  1.54e+02  1.51e+02  2.25e-12  3.61e+01 \n",
      "   900| 1.94e-04  7.01e-03  3.55e-03  1.52e+02  1.53e+02  1.95e-12  3.90e+01 \n",
      "  1000| 2.28e-04  4.41e-03  7.73e-04  1.53e+02  1.53e+02  4.44e-12  4.20e+01 \n",
      "  1100| 1.53e-04  3.43e-03  1.11e-02  1.51e+02  1.54e+02  3.08e-12  4.43e+01 \n",
      "  1200| 1.46e-04  2.53e-03  1.64e-03  1.54e+02  1.55e+02  3.19e-12  4.66e+01 \n",
      "  1300| 1.45e-04  2.27e-03  1.93e-03  1.55e+02  1.54e+02  2.44e-12  4.89e+01 \n",
      "  1400| 1.35e-04  1.74e-03  3.50e-03  1.52e+02  1.53e+02  1.69e-12  5.13e+01 \n",
      "  1500| 1.06e-04  2.87e-03  3.28e-03  1.52e+02  1.53e+02  2.63e-12  5.38e+01 \n",
      "  1600| 1.65e-04  3.39e-03  2.13e-03  1.55e+02  1.54e+02  2.18e-14  5.64e+01 \n",
      "  1700| 1.32e-04  2.67e-03  3.22e-03  1.56e+02  1.55e+02  4.64e-12  5.85e+01 \n",
      "  1800| 1.23e-04  2.92e-03  1.80e-03  1.54e+02  1.54e+02  2.36e-12  6.07e+01 \n",
      "  1900| 1.51e-04  3.41e-03  3.34e-03  1.53e+02  1.54e+02  4.47e-13  6.37e+01 \n",
      "  2000| 1.41e-04  3.56e-03  5.12e-04  1.53e+02  1.53e+02  2.45e-12  6.57e+01 \n",
      "Failure:Interrupted\n"
     ]
    },
    {
     "ename": "SolverError",
     "evalue": "Solver 'SCS' failed. Try another solver, or solve with verbose=True for more information.",
     "output_type": "error",
     "traceback": [
      "\u001b[0;31m---------------------------------------------------------------------------\u001b[0m",
      "\u001b[0;31mSolverError\u001b[0m                               Traceback (most recent call last)",
      "\u001b[0;32m<timed eval>\u001b[0m in \u001b[0;36m<module>\u001b[0;34m\u001b[0m\n",
      "\u001b[0;32m~/git/convex-model-balancing/python/model_balancing.py\u001b[0m in \u001b[0;36msolve\u001b[0;34m(S, fluxes, A_act, A_inh, Keq_gmean, Keq_ln_cov, conc_enz_gmean, conc_enz_gstd, conc_met_gmean, conc_met_gstd, kcatf_gmean, kcatf_ln_cov, kcatr_gmean, kcatr_ln_cov, Km_gmean, Km_ln_cov, Ka_gmean, Ka_ln_cov, Ki_gmean, Ki_ln_cov, rate_law)\u001b[0m\n\u001b[1;32m    324\u001b[0m \u001b[0;34m\u001b[0m\u001b[0m\n\u001b[1;32m    325\u001b[0m     \u001b[0mprob\u001b[0m \u001b[0;34m=\u001b[0m \u001b[0mcp\u001b[0m\u001b[0;34m.\u001b[0m\u001b[0mProblem\u001b[0m\u001b[0;34m(\u001b[0m\u001b[0mobjective\u001b[0m\u001b[0;34m,\u001b[0m \u001b[0;34m[\u001b[0m\u001b[0mdriving_forces\u001b[0m \u001b[0;34m>=\u001b[0m \u001b[0;36m1e-6\u001b[0m\u001b[0;34m]\u001b[0m\u001b[0;34m)\u001b[0m\u001b[0;34m\u001b[0m\u001b[0;34m\u001b[0m\u001b[0m\n\u001b[0;32m--> 326\u001b[0;31m     \u001b[0mprob\u001b[0m\u001b[0;34m.\u001b[0m\u001b[0msolve\u001b[0m\u001b[0;34m(\u001b[0m\u001b[0;34m)\u001b[0m\u001b[0;34m\u001b[0m\u001b[0;34m\u001b[0m\u001b[0m\n\u001b[0m\u001b[1;32m    327\u001b[0m \u001b[0;34m\u001b[0m\u001b[0m\n\u001b[1;32m    328\u001b[0m     \u001b[0mprint\u001b[0m\u001b[0;34m(\u001b[0m\u001b[0;34mf\"optimal Z-score = {objective.value:.2e}\"\u001b[0m\u001b[0;34m)\u001b[0m\u001b[0;34m\u001b[0m\u001b[0;34m\u001b[0m\u001b[0m\n",
      "\u001b[0;32m/usr/local/lib/python3.8/dist-packages/cvxpy/problems/problem.py\u001b[0m in \u001b[0;36msolve\u001b[0;34m(self, *args, **kwargs)\u001b[0m\n\u001b[1;32m    394\u001b[0m         \u001b[0;32melse\u001b[0m\u001b[0;34m:\u001b[0m\u001b[0;34m\u001b[0m\u001b[0;34m\u001b[0m\u001b[0m\n\u001b[1;32m    395\u001b[0m             \u001b[0msolve_func\u001b[0m \u001b[0;34m=\u001b[0m \u001b[0mProblem\u001b[0m\u001b[0;34m.\u001b[0m\u001b[0m_solve\u001b[0m\u001b[0;34m\u001b[0m\u001b[0;34m\u001b[0m\u001b[0m\n\u001b[0;32m--> 396\u001b[0;31m         \u001b[0;32mreturn\u001b[0m \u001b[0msolve_func\u001b[0m\u001b[0;34m(\u001b[0m\u001b[0mself\u001b[0m\u001b[0;34m,\u001b[0m \u001b[0;34m*\u001b[0m\u001b[0margs\u001b[0m\u001b[0;34m,\u001b[0m \u001b[0;34m**\u001b[0m\u001b[0mkwargs\u001b[0m\u001b[0;34m)\u001b[0m\u001b[0;34m\u001b[0m\u001b[0;34m\u001b[0m\u001b[0m\n\u001b[0m\u001b[1;32m    397\u001b[0m \u001b[0;34m\u001b[0m\u001b[0m\n\u001b[1;32m    398\u001b[0m     \u001b[0;34m@\u001b[0m\u001b[0mclassmethod\u001b[0m\u001b[0;34m\u001b[0m\u001b[0;34m\u001b[0m\u001b[0m\n",
      "\u001b[0;32m/usr/local/lib/python3.8/dist-packages/cvxpy/problems/problem.py\u001b[0m in \u001b[0;36m_solve\u001b[0;34m(self, solver, warm_start, verbose, gp, qcp, requires_grad, enforce_dpp, **kwargs)\u001b[0m\n\u001b[1;32m    746\u001b[0m         solution = solving_chain.solve_via_data(\n\u001b[1;32m    747\u001b[0m             self, data, warm_start, verbose, kwargs)\n\u001b[0;32m--> 748\u001b[0;31m         \u001b[0mself\u001b[0m\u001b[0;34m.\u001b[0m\u001b[0munpack_results\u001b[0m\u001b[0;34m(\u001b[0m\u001b[0msolution\u001b[0m\u001b[0;34m,\u001b[0m \u001b[0msolving_chain\u001b[0m\u001b[0;34m,\u001b[0m \u001b[0minverse_data\u001b[0m\u001b[0;34m)\u001b[0m\u001b[0;34m\u001b[0m\u001b[0;34m\u001b[0m\u001b[0m\n\u001b[0m\u001b[1;32m    749\u001b[0m         \u001b[0;32mreturn\u001b[0m \u001b[0mself\u001b[0m\u001b[0;34m.\u001b[0m\u001b[0mvalue\u001b[0m\u001b[0;34m\u001b[0m\u001b[0;34m\u001b[0m\u001b[0m\n\u001b[1;32m    750\u001b[0m \u001b[0;34m\u001b[0m\u001b[0m\n",
      "\u001b[0;32m/usr/local/lib/python3.8/dist-packages/cvxpy/problems/problem.py\u001b[0m in \u001b[0;36munpack_results\u001b[0;34m(self, solution, chain, inverse_data)\u001b[0m\n\u001b[1;32m   1058\u001b[0m             )\n\u001b[1;32m   1059\u001b[0m         \u001b[0;32mif\u001b[0m \u001b[0msolution\u001b[0m\u001b[0;34m.\u001b[0m\u001b[0mstatus\u001b[0m \u001b[0;32min\u001b[0m \u001b[0ms\u001b[0m\u001b[0;34m.\u001b[0m\u001b[0mERROR\u001b[0m\u001b[0;34m:\u001b[0m\u001b[0;34m\u001b[0m\u001b[0;34m\u001b[0m\u001b[0m\n\u001b[0;32m-> 1060\u001b[0;31m             raise error.SolverError(\n\u001b[0m\u001b[1;32m   1061\u001b[0m                     \u001b[0;34m\"Solver '%s' failed. \"\u001b[0m \u001b[0;34m%\u001b[0m \u001b[0mchain\u001b[0m\u001b[0;34m.\u001b[0m\u001b[0msolver\u001b[0m\u001b[0;34m.\u001b[0m\u001b[0mname\u001b[0m\u001b[0;34m(\u001b[0m\u001b[0;34m)\u001b[0m \u001b[0;34m+\u001b[0m\u001b[0;34m\u001b[0m\u001b[0;34m\u001b[0m\u001b[0m\n\u001b[1;32m   1062\u001b[0m                     \u001b[0;34m\"Try another solver, or solve with verbose=True for more \"\u001b[0m\u001b[0;34m\u001b[0m\u001b[0;34m\u001b[0m\u001b[0m\n",
      "\u001b[0;31mSolverError\u001b[0m: Solver 'SCS' failed. Try another solver, or solve with verbose=True for more information."
     ]
    }
   ],
   "source": [
    "%%time\n",
    "\n",
    "model_balancing.solve(\n",
    "    **args,\n",
    ")"
   ]
  }
 ],
 "metadata": {
  "kernelspec": {
   "display_name": "Python 3",
   "language": "python",
   "name": "python3"
  },
  "language_info": {
   "codemirror_mode": {
    "name": "ipython",
    "version": 3
   },
   "file_extension": ".py",
   "mimetype": "text/x-python",
   "name": "python",
   "nbconvert_exporter": "python",
   "pygments_lexer": "ipython3",
   "version": "3.8.2"
  }
 },
 "nbformat": 4,
 "nbformat_minor": 4
}
