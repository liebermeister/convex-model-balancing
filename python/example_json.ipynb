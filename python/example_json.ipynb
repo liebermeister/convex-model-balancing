{
 "cells": [
  {
   "cell_type": "code",
   "execution_count": 51,
   "metadata": {},
   "outputs": [],
   "source": [
    "import json\n",
    "import numpy as np\n",
    "from model_balancing_cvx import ModelBalancingConvex, Q_\n",
    "from model_balancing import ModelBalancing, Q_\n",
    "import cvxpy as cp\n",
    "import pandas as pd\n",
    "from sbtab import SBtab"
   ]
  },
  {
   "cell_type": "code",
   "execution_count": 5,
   "metadata": {},
   "outputs": [],
   "source": [
    "with open(\"../cvxpy/examples/json/three_chain_model_artificial_no_noise_with_noisefree_kinetic_data.json\", \"rt\") as fp:\n",
    "    data = json.load(fp)\n",
    "\n",
    "args = {}\n",
    "args[\"S\"] = np.array(data[\"network\"][\"stoichiometric_matrix\"])\n",
    "args[\"A_act\"] = np.array(data[\"network\"][\"activation_matrix\"])\n",
    "args[\"A_inh\"] = np.array(data[\"network\"][\"inhibition_matrix\"])\n",
    "args[\"fluxes\"] = Q_(data[\"reaction_fluxes\"][\"data\"][\"mean\"], data[\"reaction_fluxes\"][\"unit\"])\n",
    "\n",
    "args[\"Keq_gmean\"] = Q_(data[\"kinetic_constants\"][\"Keq\"][\"combined\"][\"geom_mean\"], \"\")\n",
    "args[\"Keq_gmean\"][2] *= 1000  # fixing standard concentration convension (from 1 mM to 1 M)\n",
    "args[\"Keq_ln_cov\"] = np.array(data[\"kinetic_constants\"][\"Keq\"][\"combined\"][\"cov_ln\"])\n",
    "\n",
    "args[\"kcatf_gmean\"] = Q_(data[\"kinetic_constants\"][\"Kcatf\"][\"combined\"][\"geom_mean\"], data[\"kinetic_constants\"][\"Kcatf\"][\"unit\"])\n",
    "args[\"kcatf_ln_cov\"] = np.array(data[\"kinetic_constants\"][\"Kcatf\"][\"combined\"][\"cov_ln\"])\n",
    "\n",
    "args[\"kcatr_gmean\"] = Q_(data[\"kinetic_constants\"][\"Kcatr\"][\"combined\"][\"geom_mean\"], data[\"kinetic_constants\"][\"Kcatr\"][\"unit\"])\n",
    "args[\"kcatr_ln_cov\"] = np.array(data[\"kinetic_constants\"][\"Kcatr\"][\"combined\"][\"cov_ln\"])\n",
    "\n",
    "args[\"Km_gmean\"] = Q_(data[\"kinetic_constants\"][\"KM\"][\"combined\"][\"geom_mean\"], \"mM\") #data[\"kinetic_constants\"][\"KM\"][\"unit\"])\n",
    "args[\"Km_ln_cov\"] = np.array(data[\"kinetic_constants\"][\"KM\"][\"combined\"][\"cov_ln\"])\n",
    "\n",
    "args[\"Ka_gmean\"] = Q_(data[\"kinetic_constants\"][\"KA\"][\"combined\"][\"geom_mean\"], \"mM\") #data[\"kinetic_constants\"][\"KA\"][\"unit\"])\n",
    "args[\"Ka_ln_cov\"] = np.array(data[\"kinetic_constants\"][\"KA\"][\"combined\"][\"cov_ln\"])\n",
    "\n",
    "args[\"Ki_gmean\"] = Q_(data[\"kinetic_constants\"][\"KI\"][\"combined\"][\"geom_mean\"], \"mM\") #data[\"kinetic_constants\"][\"KI\"][\"unit\"])\n",
    "args[\"Ki_ln_cov\"] = np.array(data[\"kinetic_constants\"][\"KI\"][\"combined\"][\"cov_ln\"])\n",
    "\n",
    "args[\"conc_met_gmean\"] = Q_(data[\"metabolite_concentrations\"][\"combined\"][\"geom_mean\"], data[\"metabolite_concentrations\"][\"unit\"])\n",
    "args[\"conc_met_gstd\"] = np.array(data[\"metabolite_concentrations\"][\"combined\"][\"geom_std\"])\n",
    "\n",
    "args[\"conc_enz_gmean\"] = Q_(data[\"enzyme_concentrations\"][\"combined\"][\"geom_mean\"], data[\"metabolite_concentrations\"][\"unit\"])\n",
    "args[\"conc_enz_gstd\"] = np.array(data[\"enzyme_concentrations\"][\"combined\"][\"geom_std\"])\n",
    "\n",
    "args[\"rate_law\"] = \"CM\""
   ]
  },
  {
   "cell_type": "code",
   "execution_count": 6,
   "metadata": {},
   "outputs": [
    {
     "name": "stdout",
     "output_type": "stream",
     "text": [
      "kcat reverse comparison:\n",
      "from JSON:   [ 97.6   7.2 138.1]\n",
      "calculated:  [97.6  7.2  0.1]\n"
     ]
    }
   ],
   "source": [
    "mb = ModelBalancingConvex(**args)\n",
    "mb.initialize_with_gmeans()\n",
    "print(\"kcat reverse comparison:\")\n",
    "print(\"from JSON:  \", args[\"kcatr_gmean\"].m_as(\"1/s\"))\n",
    "print(\"calculated: \" , np.exp(mb.ln_kcatr.value))"
   ]
  },
  {
   "cell_type": "code",
   "execution_count": 7,
   "metadata": {},
   "outputs": [
    {
     "name": "stdout",
     "output_type": "stream",
     "text": [
      "enzyme concentration comparison:\n",
      "from JSON:  \n",
      " [[1.7e-06 1.6e-06 5.0e-07 4.4e-07]\n",
      " [1.4e-06 3.3e-06 1.4e-06 1.4e-06]\n",
      " [9.4e-07 3.5e-07 1.3e-06 1.2e-06]]\n",
      "calculated: \n",
      " [[1.7e-06 1.6e-06 5.0e-07 4.4e-07]\n",
      " [1.4e-06 3.3e-06 1.4e-06 1.4e-06]\n",
      " [5.6e-07 3.2e-07 3.5e-07 2.7e-07]]\n"
     ]
    }
   ],
   "source": [
    "print(\"enzyme concentration comparison:\")\n",
    "print(\"from JSON:  \\n\", args[\"conc_enz_gmean\"].m_as(\"M\"))\n",
    "print(\"calculated: \\n\" , np.exp(mb.ln_conc_enz.value))"
   ]
  },
  {
   "cell_type": "code",
   "execution_count": 9,
   "metadata": {},
   "outputs": [
    {
     "name": "stdout",
     "output_type": "stream",
     "text": [
      "Setting enzyme conc. and kcatr gmeans to calculated values...\n",
      "initial total squared Z-scores = 0.000\n",
      "optimized total squared Z-scores = 0.000\n",
      "------------------------- All Z-scores -------------------------\n",
      "enz = 0.0\n",
      "met = 0.0\n",
      "Keq = 0.0\n",
      "kcatf = 0.0\n",
      "kcatr = 0.0\n",
      "Km = 0.0\n",
      "Ka = 0.0\n",
      "Ki = 0.0\n",
      "CPU times: user 1.31 s, sys: 80.6 ms, total: 1.39 s\n",
      "Wall time: 1.33 s\n"
     ]
    }
   ],
   "source": [
    "%%time\n",
    "\n",
    "mb = ModelBalancingConvex(**args)\n",
    "\n",
    "print(\"Setting enzyme conc. and kcatr gmeans to calculated values...\")\n",
    "# check that the driving forces at the mode are all positive\n",
    "assert mb.is_gmean_feasible()\n",
    "\n",
    "mb.initialize_with_gmeans()\n",
    "print(f\"initial total squared Z-scores = {mb.objective_value:.3f}\")\n",
    "mb.solve()\n",
    "print(f\"optimized total squared Z-scores = {mb.objective_value:.3f}\")\n",
    "print(\"-\"*25 + \" All Z-scores \" + \"-\"*25)\n",
    "mb.print_z_scores()"
   ]
  },
  {
   "cell_type": "code",
   "execution_count": 10,
   "metadata": {},
   "outputs": [
    {
     "name": "stdout",
     "output_type": "stream",
     "text": [
      "optimized total squared Z-scores = 58.067\n",
      "------------------------- All Z-scores -------------------------\n",
      "enz = 0.0\n",
      "met = 0.0\n",
      "Keq = 11.61\n",
      "kcatf = 11.61\n",
      "kcatr = 11.61\n",
      "Km = 23.23\n",
      "Ka = 0.0\n",
      "Ki = 0.0\n",
      "CPU times: user 1.31 s, sys: 85.5 ms, total: 1.39 s\n",
      "Wall time: 1.33 s\n"
     ]
    }
   ],
   "source": [
    "%%time\n",
    "\n",
    "mb = ModelBalancingConvex(**args)\n",
    "mb.solve()\n",
    "print(f\"optimized total squared Z-scores = {mb.objective_value:.3f}\")\n",
    "print(\"-\"*25 + \" All Z-scores \" + \"-\"*25)\n",
    "mb.print_z_scores()"
   ]
  },
  {
   "cell_type": "code",
   "execution_count": 57,
   "metadata": {},
   "outputs": [],
   "source": [
    "v = mb.fluxes\n",
    "c = Q_(np.exp(mb.ln_conc_met.value), \"M\")\n",
    "e = Q_(np.exp(mb.ln_conc_enz.value), \"M\")\n",
    "g = Q_(-mb.driving_forces.value, \"kJ/mol\")"
   ]
  },
  {
   "cell_type": "code",
   "execution_count": 61,
   "metadata": {},
   "outputs": [
    {
     "name": "stdout",
     "output_type": "stream",
     "text": [
      "!!!SBtab DocumentName='state_results' SBtabVersion='1.0' Date='2021-4-2'\n",
      "!!SBtab TableID='MetabolicFlux' TableType='QuantityMatrix' TableName='MetabolicFlux' SBtabVersion='1.0' Unit='mM/s'\n",
      "!QuantityType\t!Reaction\tS1\tS2\tS3\tS4\n",
      "rate of reaction\tE1\t0.021387373764911267\t0.01460085302465973\t0.011737199044558173\t0.009199216810779395\n",
      "rate of reaction\tE2\t0.021387372521010195\t0.014588598605683439\t0.011737199044527745\t0.009199199058691014\n",
      "rate of reaction\tE3\t0.02138737477565732\t0.014313621496418424\t0.011737199044230595\t0.009199219113649869\n",
      "\n",
      "!!SBtab TableID='MetaboliteConcentrations' TableType='QuantityMatrix' TableName='Metabolite concentrations' SBtabVersion='1.0' Unit='mM'\n",
      "!QuantityType\t!Compound\tS1\tS2\tS3\tS4\n",
      "concentration\tX1\t6.37611908286746\t10.748467799170818\t13.831139417702698\t10.69817907364608\n",
      "concentration\tS2\t0.15999521454625626\t0.337407243185946\t0.07259644230054538\t0.1005756071413424\n",
      "concentration\tX3\t1.1233078614881045\t4.70311572244766\t0.7065758144709312\t1.1668577003894767\n",
      "concentration\tX4\t0.7973102897016721\t0.7079450606200159\t0.9062532262737979\t1.6103653403747005\n",
      "\n",
      "!!SBtab TableID='EnzymeConcentrations' TableType='QuantityMatrix' TableName='Enzyme concentrations' SBtabVersion='1.0' Unit='mM'\n",
      "!QuantityType\t!Compound\tS1\tS2\tS3\tS4\n",
      "concentration of enzyme\tE1\t0.0017481883921990488\t0.0015805239586383216\t0.0005016780227488157\t0.00044120223604224616\n",
      "concentration of enzyme\tE2\t0.0014437261991103465\t0.003313562246626576\t0.0013629381026052689\t0.001433748401756284\n",
      "concentration of enzyme\tE3\t0.00011643200933689904\t7.563289940988996e-05\t6.548284155579942e-05\t5.0507094491179566e-05\n",
      "\n",
      "!!SBtab TableID='ReactionGibbsFreeEnergy' TableType='QuantityMatrix' TableName='Gibbs free energies of reaction' SBtabVersion='1.0' Unit='kJ/mol'\n",
      "!QuantityType\t!Compound\tS1\tS2\tS3\tS4\n",
      "Gibbs energy of reaction\tE1\t-0.7404894163982689\t-0.5165462806212577\t-2.305080317224486\t-1.7222374964821086\n",
      "Gibbs energy of reaction\tE2\t-1.1722560805322493\t-0.48645538381991305\t-0.8456306442200594\t-0.6699852999437699\n",
      "Gibbs energy of reaction\tE3\t-6.434033287526614\t-7.98485814849266\t-5.842355893563589\t-5.769097490319845\n",
      "\n",
      "\n"
     ]
    }
   ],
   "source": [
    "sbtabdoc = SBtab.SBtabDocument(name=\"state_results\")\n",
    "\n",
    "flux_df = pd.DataFrame(v.m_as(\"mM/s\"), columns=[\"S1\", \"S2\", \"S3\", \"S4\"])\n",
    "flux_df.insert(0, \"!QuantityType\", \"rate of reaction\")\n",
    "flux_df.insert(1, \"!Reaction\", [\"E1\", \"E2\", \"E3\"])\n",
    "flux_sbtab = SBtab.SBtabTable.from_data_frame(\n",
    "    flux_df.astype(str),\n",
    "    table_id=\"MetabolicFlux\",\n",
    "    table_name=\"MetabolicFlux\",\n",
    "    table_type=\"QuantityMatrix\",\n",
    "    unit=\"mM/s\",\n",
    ")\n",
    "sbtabdoc.add_sbtab(flux_sbtab)\n",
    "\n",
    "conc_met_df = pd.DataFrame(c.m_as(\"mM\"), columns=[\"S1\", \"S2\", \"S3\", \"S4\"])\n",
    "conc_met_df.insert(0, \"!QuantityType\", \"concentration\")\n",
    "conc_met_df.insert(1, \"!Compound\", [\"X1\", \"S2\", \"X3\", \"X4\"])\n",
    "conc_met_sbtab = SBtab.SBtabTable.from_data_frame(\n",
    "    conc_met_df.astype(str),\n",
    "    table_id=\"MetaboliteConcentrations\",\n",
    "    table_name=\"Metabolite concentrations\",\n",
    "    table_type=\"QuantityMatrix\",\n",
    "    unit=\"mM\",\n",
    ")\n",
    "sbtabdoc.add_sbtab(conc_met_sbtab)\n",
    "\n",
    "conc_enz_df = pd.DataFrame(e.m_as(\"mM\"), columns=[\"S1\", \"S2\", \"S3\", \"S4\"])\n",
    "conc_enz_df.insert(0, \"!QuantityType\", \"concentration of enzyme\")\n",
    "conc_enz_df.insert(1, \"!Compound\", [\"E1\", \"E2\", \"E3\"])\n",
    "conc_enz_sbtab = SBtab.SBtabTable.from_data_frame(\n",
    "    conc_enz_df.astype(str),\n",
    "    table_id=\"EnzymeConcentrations\",\n",
    "    table_name=\"Enzyme concentrations\",\n",
    "    table_type=\"QuantityMatrix\",\n",
    "    unit=\"mM\",\n",
    ")\n",
    "sbtabdoc.add_sbtab(conc_enz_sbtab)\n",
    "\n",
    "gibbs_energy_df = pd.DataFrame(g.m_as(\"kJ/mol\"), columns=[\"S1\", \"S2\", \"S3\", \"S4\"])\n",
    "gibbs_energy_df.insert(0, \"!QuantityType\", \"Gibbs energy of reaction\")\n",
    "gibbs_energy_df.insert(1, \"!Compound\", [\"E1\", \"E2\", \"E3\"])\n",
    "gibbs_energy_sbtab = SBtab.SBtabTable.from_data_frame(\n",
    "    gibbs_energy_df.astype(str),\n",
    "    table_id=\"ReactionGibbsFreeEnergy\",\n",
    "    table_name=\"Gibbs free energies of reaction\",\n",
    "    table_type=\"QuantityMatrix\",\n",
    "    unit=\"kJ/mol\",\n",
    ")\n",
    "sbtabdoc.add_sbtab(gibbs_energy_sbtab)\n",
    "\n",
    "print(sbtabdoc.to_str())\n",
    "sbtabdoc.write(\"state_results.tsv\");"
   ]
  },
  {
   "cell_type": "code",
   "execution_count": 30,
   "metadata": {},
   "outputs": [
    {
     "ename": "ValueError",
     "evalue": "not enough values to unpack (expected 2, got 1)",
     "output_type": "error",
     "traceback": [
      "\u001b[0;31m---------------------------------------------------------------------------\u001b[0m",
      "\u001b[0;31mValueError\u001b[0m                                Traceback (most recent call last)",
      "\u001b[0;32m<ipython-input-30-e35bb8f8e871>\u001b[0m in \u001b[0;36m<module>\u001b[0;34m\u001b[0m\n\u001b[0;32m----> 1\u001b[0;31m \u001b[0mmb_noncvx\u001b[0m \u001b[0;34m=\u001b[0m \u001b[0mModelBalancing\u001b[0m\u001b[0;34m(\u001b[0m\u001b[0;34m**\u001b[0m\u001b[0margs\u001b[0m\u001b[0;34m)\u001b[0m\u001b[0;34m\u001b[0m\u001b[0;34m\u001b[0m\u001b[0m\n\u001b[0m\u001b[1;32m      2\u001b[0m \u001b[0mmb_noncvx\u001b[0m\u001b[0;34m.\u001b[0m\u001b[0minitialize_with_gmeans\u001b[0m\u001b[0;34m(\u001b[0m\u001b[0;34m)\u001b[0m\u001b[0;34m\u001b[0m\u001b[0;34m\u001b[0m\u001b[0m\n\u001b[1;32m      3\u001b[0m \u001b[0;34m\u001b[0m\u001b[0m\n\u001b[1;32m      4\u001b[0m \u001b[0mv\u001b[0m \u001b[0;34m=\u001b[0m \u001b[0mmb\u001b[0m\u001b[0;34m.\u001b[0m\u001b[0mfluxes\u001b[0m\u001b[0;34m\u001b[0m\u001b[0;34m\u001b[0m\u001b[0m\n\u001b[1;32m      5\u001b[0m \u001b[0mc\u001b[0m \u001b[0;34m=\u001b[0m \u001b[0mQ_\u001b[0m\u001b[0;34m(\u001b[0m\u001b[0mnp\u001b[0m\u001b[0;34m.\u001b[0m\u001b[0mexp\u001b[0m\u001b[0;34m(\u001b[0m\u001b[0mmb_noncvx\u001b[0m\u001b[0;34m.\u001b[0m\u001b[0mln_conc_met\u001b[0m\u001b[0;34m.\u001b[0m\u001b[0mvalue\u001b[0m\u001b[0;34m)\u001b[0m\u001b[0;34m,\u001b[0m \u001b[0;34m\"M\"\u001b[0m\u001b[0;34m)\u001b[0m\u001b[0;34m\u001b[0m\u001b[0;34m\u001b[0m\u001b[0m\n",
      "\u001b[0;32m~/git/model-balancing/python/model_balancing.py\u001b[0m in \u001b[0;36m__init__\u001b[0;34m(self, S, fluxes, A_act, A_inh, Keq_gmean, Keq_ln_cov, conc_enz_gmean, conc_enz_gstd, conc_met_gmean, conc_met_gstd, kcatf_gmean, kcatf_ln_cov, kcatr_gmean, kcatr_ln_cov, Km_gmean, Km_ln_cov, Ka_gmean, Ka_ln_cov, Ki_gmean, Ki_ln_cov, rate_law, solver)\u001b[0m\n\u001b[1;32m     80\u001b[0m         \u001b[0mself\u001b[0m\u001b[0;34m.\u001b[0m\u001b[0mKm_inv_ln_cov\u001b[0m \u001b[0;34m=\u001b[0m \u001b[0mnp\u001b[0m\u001b[0;34m.\u001b[0m\u001b[0mlinalg\u001b[0m\u001b[0;34m.\u001b[0m\u001b[0mpinv\u001b[0m\u001b[0;34m(\u001b[0m\u001b[0mKm_ln_cov\u001b[0m\u001b[0;34m)\u001b[0m\u001b[0;34m\u001b[0m\u001b[0;34m\u001b[0m\u001b[0m\n\u001b[1;32m     81\u001b[0m         \u001b[0mself\u001b[0m\u001b[0;34m.\u001b[0m\u001b[0mKa_ln_gmean\u001b[0m \u001b[0;34m=\u001b[0m \u001b[0mnp\u001b[0m\u001b[0;34m.\u001b[0m\u001b[0mlog\u001b[0m\u001b[0;34m(\u001b[0m\u001b[0mKa_gmean\u001b[0m\u001b[0;34m.\u001b[0m\u001b[0mm_as\u001b[0m\u001b[0;34m(\u001b[0m\u001b[0;34m\"M\"\u001b[0m\u001b[0;34m)\u001b[0m\u001b[0;34m)\u001b[0m\u001b[0;34m\u001b[0m\u001b[0;34m\u001b[0m\u001b[0m\n\u001b[0;32m---> 82\u001b[0;31m         \u001b[0mself\u001b[0m\u001b[0;34m.\u001b[0m\u001b[0mKa_inv_ln_cov\u001b[0m \u001b[0;34m=\u001b[0m \u001b[0mnp\u001b[0m\u001b[0;34m.\u001b[0m\u001b[0mlinalg\u001b[0m\u001b[0;34m.\u001b[0m\u001b[0mpinv\u001b[0m\u001b[0;34m(\u001b[0m\u001b[0mKa_ln_cov\u001b[0m\u001b[0;34m)\u001b[0m\u001b[0;34m\u001b[0m\u001b[0;34m\u001b[0m\u001b[0m\n\u001b[0m\u001b[1;32m     83\u001b[0m         \u001b[0mself\u001b[0m\u001b[0;34m.\u001b[0m\u001b[0mKi_ln_gmean\u001b[0m \u001b[0;34m=\u001b[0m \u001b[0mnp\u001b[0m\u001b[0;34m.\u001b[0m\u001b[0mlog\u001b[0m\u001b[0;34m(\u001b[0m\u001b[0mKi_gmean\u001b[0m\u001b[0;34m.\u001b[0m\u001b[0mm_as\u001b[0m\u001b[0;34m(\u001b[0m\u001b[0;34m\"M\"\u001b[0m\u001b[0;34m)\u001b[0m\u001b[0;34m)\u001b[0m\u001b[0;34m\u001b[0m\u001b[0;34m\u001b[0m\u001b[0m\n\u001b[1;32m     84\u001b[0m         \u001b[0mself\u001b[0m\u001b[0;34m.\u001b[0m\u001b[0mKi_inv_ln_cov\u001b[0m \u001b[0;34m=\u001b[0m \u001b[0mnp\u001b[0m\u001b[0;34m.\u001b[0m\u001b[0mlinalg\u001b[0m\u001b[0;34m.\u001b[0m\u001b[0mpinv\u001b[0m\u001b[0;34m(\u001b[0m\u001b[0mKi_ln_cov\u001b[0m\u001b[0;34m)\u001b[0m\u001b[0;34m\u001b[0m\u001b[0;34m\u001b[0m\u001b[0m\n",
      "\u001b[0;32m<__array_function__ internals>\u001b[0m in \u001b[0;36mpinv\u001b[0;34m(*args, **kwargs)\u001b[0m\n",
      "\u001b[0;32m~/git/model-balancing/venv/lib/python3.9/site-packages/numpy/linalg/linalg.py\u001b[0m in \u001b[0;36mpinv\u001b[0;34m(a, rcond, hermitian)\u001b[0m\n\u001b[1;32m   1996\u001b[0m     \u001b[0mrcond\u001b[0m \u001b[0;34m=\u001b[0m \u001b[0masarray\u001b[0m\u001b[0;34m(\u001b[0m\u001b[0mrcond\u001b[0m\u001b[0;34m)\u001b[0m\u001b[0;34m\u001b[0m\u001b[0;34m\u001b[0m\u001b[0m\n\u001b[1;32m   1997\u001b[0m     \u001b[0;32mif\u001b[0m \u001b[0m_is_empty_2d\u001b[0m\u001b[0;34m(\u001b[0m\u001b[0ma\u001b[0m\u001b[0;34m)\u001b[0m\u001b[0;34m:\u001b[0m\u001b[0;34m\u001b[0m\u001b[0;34m\u001b[0m\u001b[0m\n\u001b[0;32m-> 1998\u001b[0;31m         \u001b[0mm\u001b[0m\u001b[0;34m,\u001b[0m \u001b[0mn\u001b[0m \u001b[0;34m=\u001b[0m \u001b[0ma\u001b[0m\u001b[0;34m.\u001b[0m\u001b[0mshape\u001b[0m\u001b[0;34m[\u001b[0m\u001b[0;34m-\u001b[0m\u001b[0;36m2\u001b[0m\u001b[0;34m:\u001b[0m\u001b[0;34m]\u001b[0m\u001b[0;34m\u001b[0m\u001b[0;34m\u001b[0m\u001b[0m\n\u001b[0m\u001b[1;32m   1999\u001b[0m         \u001b[0mres\u001b[0m \u001b[0;34m=\u001b[0m \u001b[0mempty\u001b[0m\u001b[0;34m(\u001b[0m\u001b[0ma\u001b[0m\u001b[0;34m.\u001b[0m\u001b[0mshape\u001b[0m\u001b[0;34m[\u001b[0m\u001b[0;34m:\u001b[0m\u001b[0;34m-\u001b[0m\u001b[0;36m2\u001b[0m\u001b[0;34m]\u001b[0m \u001b[0;34m+\u001b[0m \u001b[0;34m(\u001b[0m\u001b[0mn\u001b[0m\u001b[0;34m,\u001b[0m \u001b[0mm\u001b[0m\u001b[0;34m)\u001b[0m\u001b[0;34m,\u001b[0m \u001b[0mdtype\u001b[0m\u001b[0;34m=\u001b[0m\u001b[0ma\u001b[0m\u001b[0;34m.\u001b[0m\u001b[0mdtype\u001b[0m\u001b[0;34m)\u001b[0m\u001b[0;34m\u001b[0m\u001b[0;34m\u001b[0m\u001b[0m\n\u001b[1;32m   2000\u001b[0m         \u001b[0;32mreturn\u001b[0m \u001b[0mwrap\u001b[0m\u001b[0;34m(\u001b[0m\u001b[0mres\u001b[0m\u001b[0;34m)\u001b[0m\u001b[0;34m\u001b[0m\u001b[0;34m\u001b[0m\u001b[0m\n",
      "\u001b[0;31mValueError\u001b[0m: not enough values to unpack (expected 2, got 1)"
     ]
    }
   ],
   "source": [
    "mb_noncvx = ModelBalancing(**args)\n",
    "mb_noncvx.initialize_with_gmeans()\n",
    "\n",
    "v = mb.fluxes\n",
    "c = Q_(np.exp(mb_noncvx.ln_conc_met.value), \"M\")\n",
    "e = Q_(np.exp(mb_noncvx.ln_conc_enz.value), \"M\")\n",
    "g = Q_(mb_noncvx.driving_forces.value, \"kJ/mol\")"
   ]
  }
 ],
 "metadata": {
  "kernelspec": {
   "display_name": "Python 3",
   "language": "python",
   "name": "python3"
  },
  "language_info": {
   "codemirror_mode": {
    "name": "ipython",
    "version": 3
   },
   "file_extension": ".py",
   "mimetype": "text/x-python",
   "name": "python",
   "nbconvert_exporter": "python",
   "pygments_lexer": "ipython3",
   "version": "3.9.2"
  }
 },
 "nbformat": 4,
 "nbformat_minor": 4
}
