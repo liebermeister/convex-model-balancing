{
 "cells": [
  {
   "cell_type": "code",
   "execution_count": 1,
   "metadata": {},
   "outputs": [],
   "source": [
    "import json\n",
    "import numpy as np\n",
    "from model_balancing_cvx import ModelBalancingConvex, Q_\n",
    "import cvxpy as cp\n",
    "np.set_printoptions(precision=1)"
   ]
  },
  {
   "cell_type": "code",
   "execution_count": 2,
   "metadata": {},
   "outputs": [],
   "source": [
    "with open(\"../cvxpy/examples/double-branch-model/no_noise_with_noisefree_kinetic_data/double_branch_model_no_noise_with_noisefree_kinetic_data.json\", \"rt\") as fp:\n",
    "    data = json.load(fp)\n",
    "\n",
    "args = {}\n",
    "args[\"S\"] = np.array(data[\"network\"][\"stoichiometric_matrix\"])\n",
    "args[\"A_act\"] = np.array(data[\"network\"][\"activation_matrix\"])\n",
    "args[\"A_inh\"] = np.array(data[\"network\"][\"inhibition_matrix\"])\n",
    "args[\"fluxes\"] = Q_(data[\"reaction_fluxes\"][\"data\"][\"mean\"], data[\"reaction_fluxes\"][\"unit\"])\n",
    "\n",
    "args[\"Keq_gmean\"] = Q_(data[\"kinetic_constants\"][\"Keq\"][\"combined\"][\"geom_mean\"], \"\")\n",
    "args[\"Keq_gmean\"][2] *= 1000  # fixing standard concentration convension (from 1 mM to 1 M)\n",
    "args[\"Keq_ln_cov\"] = np.array(data[\"kinetic_constants\"][\"Keq\"][\"combined\"][\"cov_ln\"])\n",
    "\n",
    "args[\"kcatf_gmean\"] = Q_(data[\"kinetic_constants\"][\"Kcatf\"][\"combined\"][\"geom_mean\"], data[\"kinetic_constants\"][\"Kcatf\"][\"unit\"])\n",
    "args[\"kcatf_ln_cov\"] = np.array(data[\"kinetic_constants\"][\"Kcatf\"][\"combined\"][\"cov_ln\"])\n",
    "\n",
    "args[\"kcatr_gmean\"] = Q_(data[\"kinetic_constants\"][\"Kcatr\"][\"combined\"][\"geom_mean\"], data[\"kinetic_constants\"][\"Kcatr\"][\"unit\"])\n",
    "args[\"kcatr_ln_cov\"] = np.array(data[\"kinetic_constants\"][\"Kcatr\"][\"combined\"][\"cov_ln\"])\n",
    "\n",
    "args[\"Km_gmean\"] = Q_(data[\"kinetic_constants\"][\"KM\"][\"combined\"][\"geom_mean\"], \"mM\") #data[\"kinetic_constants\"][\"KM\"][\"unit\"])\n",
    "args[\"Km_ln_cov\"] = np.array(data[\"kinetic_constants\"][\"KM\"][\"combined\"][\"cov_ln\"])\n",
    "\n",
    "args[\"Ka_gmean\"] = Q_(data[\"kinetic_constants\"][\"KA\"][\"combined\"][\"geom_mean\"], \"mM\") #data[\"kinetic_constants\"][\"KA\"][\"unit\"])\n",
    "args[\"Ka_ln_cov\"] = np.array(data[\"kinetic_constants\"][\"KA\"][\"combined\"][\"cov_ln\"])\n",
    "\n",
    "args[\"Ki_gmean\"] = Q_(data[\"kinetic_constants\"][\"KI\"][\"combined\"][\"geom_mean\"], \"mM\") #data[\"kinetic_constants\"][\"KI\"][\"unit\"])\n",
    "args[\"Ki_ln_cov\"] = np.array(data[\"kinetic_constants\"][\"KI\"][\"combined\"][\"cov_ln\"])\n",
    "\n",
    "args[\"conc_met_gmean\"] = Q_(data[\"metabolite_concentrations\"][\"combined\"][\"geom_mean\"], data[\"metabolite_concentrations\"][\"unit\"])\n",
    "args[\"conc_met_gstd\"] = np.array(data[\"metabolite_concentrations\"][\"combined\"][\"geom_std\"])\n",
    "\n",
    "args[\"conc_enz_gmean\"] = Q_(data[\"enzyme_concentrations\"][\"combined\"][\"geom_mean\"], data[\"metabolite_concentrations\"][\"unit\"])\n",
    "args[\"conc_enz_gstd\"] = np.array(data[\"enzyme_concentrations\"][\"combined\"][\"geom_std\"])\n",
    "\n",
    "args[\"rate_law\"] = \"CM\""
   ]
  },
  {
   "cell_type": "code",
   "execution_count": 3,
   "metadata": {},
   "outputs": [
    {
     "name": "stdout",
     "output_type": "stream",
     "text": [
      "kcat reverse comparison:\n",
      "from JSON:   [1408.7    8.8  362.3   53.   528.1]\n",
      "calculated:  [1408.1    8.8  362.5   53.   528.2]\n"
     ]
    }
   ],
   "source": [
    "mb = ModelBalancingConvex(**args)\n",
    "mb.initialize_with_gmeans()\n",
    "print(\"kcat reverse comparison:\")\n",
    "print(\"from JSON:  \", args[\"kcatr_gmean\"].m_as(\"1/s\"))\n",
    "print(\"calculated: \" , np.exp(mb.ln_kcatr.value))"
   ]
  },
  {
   "cell_type": "code",
   "execution_count": 4,
   "metadata": {},
   "outputs": [
    {
     "name": "stdout",
     "output_type": "stream",
     "text": [
      "enzyme concentration comparison:\n",
      "from JSON:  \n",
      " [[6.4e-07 9.3e-07 9.4e-07 1.1e-06]\n",
      " [2.1e-06 1.2e-06 1.0e-06 8.4e-07]\n",
      " [1.0e-06 9.0e-07 6.1e-07 5.6e-07]\n",
      " [5.0e-07 4.9e-07 3.8e-07 6.0e-07]\n",
      " [1.4e-06 6.4e-07 5.1e-07 3.7e-07]]\n",
      "calculated: \n",
      " [[6.8e-07 1.0e-06 9.9e-07 1.1e-06]\n",
      " [2.2e-06 1.3e-06 1.1e-06 8.9e-07]\n",
      " [1.1e-06 9.3e-07 6.3e-07 5.8e-07]\n",
      " [5.2e-07 5.1e-07 4.0e-07 6.3e-07]\n",
      " [1.5e-06 6.7e-07 5.4e-07 3.9e-07]]\n"
     ]
    }
   ],
   "source": [
    "print(\"enzyme concentration comparison:\")\n",
    "print(\"from JSON:  \\n\", args[\"conc_enz_gmean\"].m_as(\"M\"))\n",
    "print(\"calculated: \\n\" , np.exp(mb.ln_conc_enz.value))"
   ]
  },
  {
   "cell_type": "code",
   "execution_count": 5,
   "metadata": {},
   "outputs": [
    {
     "name": "stdout",
     "output_type": "stream",
     "text": [
      "optimized total squared Z-scores = 0.054\n",
      "------------------------- All Z-scores -------------------------\n",
      "enz = 0.0\n",
      "met = 0.0\n",
      "Keq = 0.01\n",
      "kcatf = 0.03\n",
      "kcatr = 0.0\n",
      "Km = 0.01\n",
      "Ka = 0.0\n",
      "Ki = 0.0\n",
      "CPU times: user 8.53 s, sys: 3.43 s, total: 12 s\n",
      "Wall time: 11 s\n"
     ]
    }
   ],
   "source": [
    "%%time\n",
    "\n",
    "mb = ModelBalancingConvex(**args)\n",
    "mb.solve()\n",
    "print(f\"optimized total squared Z-scores = {mb.objective_value:.3f}\")\n",
    "print(\"-\"*25 + \" All Z-scores \" + \"-\"*25)\n",
    "mb.print_z_scores()"
   ]
  },
  {
   "cell_type": "code",
   "execution_count": 6,
   "metadata": {},
   "outputs": [
    {
     "name": "stdout",
     "output_type": "stream",
     "text": [
      "Setting enzyme conc. and kcatr gmeans to calculated values...\n",
      "initial total squared Z-scores = 0.000\n",
      "optimized total squared Z-scores = 0.000\n",
      "------------------------- All Z-scores -------------------------\n",
      "enz = 0.0\n",
      "met = 0.0\n",
      "Keq = 0.0\n",
      "kcatf = 0.0\n",
      "kcatr = 0.0\n",
      "Km = 0.0\n",
      "Ka = 0.0\n",
      "Ki = 0.0\n",
      "CPU times: user 9.13 s, sys: 2.41 s, total: 11.5 s\n",
      "Wall time: 10.3 s\n"
     ]
    }
   ],
   "source": [
    "%%time\n",
    "\n",
    "mb = ModelBalancingConvex(**args)\n",
    "\n",
    "print(\"Setting enzyme conc. and kcatr gmeans to calculated values...\")\n",
    "# check that the driving forces at the mode are all positive\n",
    "assert mb.is_gmean_feasible()\n",
    "\n",
    "mb.initialize_with_gmeans()\n",
    "print(f\"initial total squared Z-scores = {mb.objective_value:.3f}\")\n",
    "mb.solve()\n",
    "print(f\"optimized total squared Z-scores = {mb.objective_value:.3f}\")\n",
    "print(\"-\"*25 + \" All Z-scores \" + \"-\"*25)\n",
    "mb.print_z_scores()"
   ]
  }
 ],
 "metadata": {
  "kernelspec": {
   "display_name": "Python 3",
   "language": "python",
   "name": "python3"
  },
  "language_info": {
   "codemirror_mode": {
    "name": "ipython",
    "version": 3
   },
   "file_extension": ".py",
   "mimetype": "text/x-python",
   "name": "python",
   "nbconvert_exporter": "python",
   "pygments_lexer": "ipython3",
   "version": "3.8.6"
  }
 },
 "nbformat": 4,
 "nbformat_minor": 4
}